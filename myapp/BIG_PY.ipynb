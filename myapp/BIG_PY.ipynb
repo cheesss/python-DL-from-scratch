{
  "nbformat": 4,
  "nbformat_minor": 0,
  "metadata": {
    "colab": {
      "name": "BIG_PY.ipynb",
      "provenance": [],
      "collapsed_sections": [],
      "authorship_tag": "ABX9TyNaGQQCWszGXtCXQidwyLab",
      "include_colab_link": true
    },
    "kernelspec": {
      "name": "python3",
      "display_name": "Python 3"
    },
    "language_info": {
      "name": "python"
    }
  },
  "cells": [
    {
      "cell_type": "markdown",
      "metadata": {
        "id": "view-in-github",
        "colab_type": "text"
      },
      "source": [
        "<a href=\"https://colab.research.google.com/github/cheesss/python/blob/main/BIG_PY.ipynb\" target=\"_parent\"><img src=\"https://colab.research.google.com/assets/colab-badge.svg\" alt=\"Open In Colab\"/></a>"
      ]
    },
    {
      "cell_type": "code",
      "source": [
        "1+1\n"
      ],
      "metadata": {
        "colab": {
          "base_uri": "https://localhost:8080/"
        },
        "id": "lfIwPCHsns_U",
        "outputId": "f09b8f27-b479-48e1-c573-0f3682b62c31"
      },
      "execution_count": null,
      "outputs": [
        {
          "output_type": "execute_result",
          "data": {
            "text/plain": [
              "2"
            ]
          },
          "metadata": {},
          "execution_count": 1
        }
      ]
    },
    {
      "cell_type": "code",
      "source": [
        ""
      ],
      "metadata": {
        "id": "MXvITk_5ouiE"
      },
      "execution_count": null,
      "outputs": []
    },
    {
      "cell_type": "code",
      "source": [
        "None = 10"
      ],
      "metadata": {
        "colab": {
          "base_uri": "https://localhost:8080/",
          "height": 136
        },
        "id": "aH4ooItvnyv2",
        "outputId": "ecfffe9b-4f82-47f2-caca-771317a2b13e"
      },
      "execution_count": null,
      "outputs": [
        {
          "output_type": "error",
          "ename": "SyntaxError",
          "evalue": "ignored",
          "traceback": [
            "\u001b[0;36m  File \u001b[0;32m\"<ipython-input-3-f914dbb6ae5e>\"\u001b[0;36m, line \u001b[0;32m1\u001b[0m\n\u001b[0;31m    None = 10\u001b[0m\n\u001b[0m             ^\u001b[0m\n\u001b[0;31mSyntaxError\u001b[0m\u001b[0;31m:\u001b[0m can't assign to keyword\n"
          ]
        }
      ]
    },
    {
      "cell_type": "code",
      "source": [
        "num = 10"
      ],
      "metadata": {
        "id": "nQZ0iYofrBFT"
      },
      "execution_count": null,
      "outputs": []
    },
    {
      "cell_type": "code",
      "source": [
        "5 < num < 30 #이런것도 된다."
      ],
      "metadata": {
        "colab": {
          "base_uri": "https://localhost:8080/"
        },
        "id": "jpkKGgzxrJcL",
        "outputId": "4dde2d7c-f06f-4f68-a9dd-66b2e1d88467"
      },
      "execution_count": null,
      "outputs": [
        {
          "output_type": "execute_result",
          "data": {
            "text/plain": [
              "True"
            ]
          },
          "metadata": {},
          "execution_count": 9
        }
      ]
    },
    {
      "cell_type": "code",
      "source": [
        "PI = 3.14\n",
        "r = 5\n",
        "v = 4/3 * PI *r**3\n",
        "print(v)"
      ],
      "metadata": {
        "id": "PwqELZy_raV8",
        "colab": {
          "base_uri": "https://localhost:8080/"
        },
        "outputId": "d5de7781-d2e5-453b-c1e7-e49fb67e0dad"
      },
      "execution_count": null,
      "outputs": [
        {
          "output_type": "stream",
          "name": "stdout",
          "text": [
            "523.3333333333334\n"
          ]
        }
      ]
    },
    {
      "cell_type": "code",
      "source": [
        "p=24.95\n",
        "sp = p * 0.6\n",
        "num = 60\n",
        "basongbee = 0.75\n",
        "total = (sp * num) + (basongbee*num)\n",
        "print(total)"
      ],
      "metadata": {
        "colab": {
          "base_uri": "https://localhost:8080/"
        },
        "id": "o6-H-1ETzPQa",
        "outputId": "baf65294-0a34-49cb-d837-c11f269b35ea"
      },
      "execution_count": null,
      "outputs": [
        {
          "output_type": "stream",
          "name": "stdout",
          "text": [
            "943.1999999999999\n"
          ]
        }
      ]
    },
    {
      "cell_type": "code",
      "source": [
        "not ( 300 or ( False ) )"
      ],
      "metadata": {
        "colab": {
          "base_uri": "https://localhost:8080/"
        },
        "id": "dyS_cv1X0ay7",
        "outputId": "300711d3-ffdd-4ea5-b6ca-0caa7f10bf1e"
      },
      "execution_count": null,
      "outputs": [
        {
          "output_type": "execute_result",
          "data": {
            "text/plain": [
              "False"
            ]
          },
          "metadata": {},
          "execution_count": 4
        }
      ]
    },
    {
      "cell_type": "code",
      "source": [
        "print(\"판단하고싶은 년도를 입력하시오: \")\n",
        "y = float(input())\n",
        "if (y%4 == 0) :\n",
        "    if(y%100 == 0) :\n",
        "      if (y%400 == 0):\n",
        "        print(y,\"는 윤년입니다.\")\n",
        "    else:\n",
        "      print(y,\"는 윤년이 아닙니다.\")\n",
        "else:\n",
        "    print(y,\"는 윤년이 아닙니다.\")\n",
        "\n",
        "\n",
        "#print( (year %4== 0 ) and (year %100 ≠ 0 ) (year %400 ==0)) 이렇게 요약가능하다"
      ],
      "metadata": {
        "colab": {
          "base_uri": "https://localhost:8080/"
        },
        "id": "RkMfobK00p_s",
        "outputId": "608179b6-afa9-4ceb-9803-d3343339857d"
      },
      "execution_count": null,
      "outputs": [
        {
          "output_type": "stream",
          "name": "stdout",
          "text": [
            "판단하고싶은 년도를 입력하시오: \n",
            "400\n",
            "400.0 는 윤년입니다.\n"
          ]
        }
      ]
    },
    {
      "cell_type": "code",
      "source": [
        ""
      ],
      "metadata": {
        "id": "NT1C_KqgBwgh"
      },
      "execution_count": null,
      "outputs": []
    },
    {
      "cell_type": "code",
      "source": [
        "k = 80\n",
        "e = 75\n",
        "m = 55\n",
        "avg = (k+e+m)/3\n",
        "print(avg)\n"
      ],
      "metadata": {
        "colab": {
          "base_uri": "https://localhost:8080/"
        },
        "id": "k-xZHsWHHs-J",
        "outputId": "926776e2-affb-43ce-c650-600713dd41ec"
      },
      "execution_count": null,
      "outputs": [
        {
          "output_type": "stream",
          "name": "stdout",
          "text": [
            "70.0\n"
          ]
        }
      ]
    },
    {
      "cell_type": "code",
      "source": [
        "if(13%2 == 0):\n",
        "  print(\"13은 짝수입니다\")\n",
        "else:\n",
        "  print(\"13은 홀수입니다\")"
      ],
      "metadata": {
        "colab": {
          "base_uri": "https://localhost:8080/"
        },
        "id": "jSReq8MnIGqh",
        "outputId": "a5de7e6c-30a4-4213-df98-d7fe6d5e2546"
      },
      "execution_count": null,
      "outputs": [
        {
          "output_type": "stream",
          "name": "stdout",
          "text": [
            "13은 홀수입니다\n"
          ]
        }
      ]
    },
    {
      "cell_type": "code",
      "source": [
        "not 1+1 == y or x == 4 and 7 == 8"
      ],
      "metadata": {
        "colab": {
          "base_uri": "https://localhost:8080/"
        },
        "id": "439uog41Iu_A",
        "outputId": "bba182a3-64be-406d-aaa0-8fd041c40270"
      },
      "execution_count": null,
      "outputs": [
        {
          "output_type": "execute_result",
          "data": {
            "text/plain": [
              "True"
            ]
          },
          "metadata": {},
          "execution_count": 14
        }
      ]
    },
    {
      "cell_type": "code",
      "source": [
        "print(\"화씨 몇도인가요?\")\n",
        "f=float(input())\n",
        "c=(f-32)/1.8\n",
        "print(f,\"는 섭씨로\",c,\" 입니다\")"
      ],
      "metadata": {
        "colab": {
          "base_uri": "https://localhost:8080/"
        },
        "id": "j5EUnAJcI3Qn",
        "outputId": "f2f6d5d3-e4c9-4288-f1ac-879968a368d7"
      },
      "execution_count": null,
      "outputs": [
        {
          "output_type": "stream",
          "name": "stdout",
          "text": [
            "화씨 몇도인가요?\n",
            "50\n",
            "50.0 는 섭씨로 10.0  입니다\n"
          ]
        }
      ]
    },
    {
      "cell_type": "code",
      "source": [
        "print(\"몇 종류의 주식을 갖고있나요?\")\n",
        "num = int(input())\n",
        "i = 1\n",
        "all = 0\n",
        "while i<=num:\n",
        "  print(i,\"번째 종목은 몇개 갖고있나요?\")\n",
        "  m = int(input())\n",
        "  \n",
        "  print(i, \"번째 주식은 몇퍼센트 떨어졌나요?\")\n",
        "  p = float(input())\n",
        "\n",
        "  print(\"이 주식은 한주에 얼마인가요?\")\n",
        "  v = float(input())\n",
        "  all = all + v*m*((100-p)/100)\n",
        "  i = i+1\n",
        "\n",
        "print(\"보유한 주식 총액은 \",all,\"입니다.\")"
      ],
      "metadata": {
        "colab": {
          "base_uri": "https://localhost:8080/"
        },
        "id": "_WB30VPHJ5ch",
        "outputId": "947cae46-e4d0-46ad-fabd-b622c7e672b5"
      },
      "execution_count": null,
      "outputs": [
        {
          "output_type": "stream",
          "name": "stdout",
          "text": [
            "몇 종류의 주식을 갖고있나요?\n",
            "2\n",
            "1 번째 종목은 몇개 갖고있나요?\n",
            "100\n",
            "1 번째 주식은 몇퍼센트 떨어졌나요?\n",
            "5\n",
            "이 주식은 한주에 얼마인가요?\n",
            "89000\n",
            "2 번째 종목은 몇개 갖고있나요?\n",
            "20\n",
            "1 번째 주식은 몇퍼센트 떨어졌나요?\n",
            "10\n",
            "이 주식은 한주에 얼마인가요?\n",
            "751000\n",
            "보유한 주식 총액은  21973000.0 입니다.\n"
          ]
        }
      ]
    },
    {
      "cell_type": "code",
      "source": [
        "1e15"
      ],
      "metadata": {
        "colab": {
          "base_uri": "https://localhost:8080/"
        },
        "id": "4MhYFGnNDovG",
        "outputId": "e615fbb8-316c-498f-da3b-6fb1715198f0"
      },
      "execution_count": null,
      "outputs": [
        {
          "output_type": "execute_result",
          "data": {
            "text/plain": [
              "1000000000000000.0"
            ]
          },
          "metadata": {},
          "execution_count": 1
        }
      ]
    },
    {
      "cell_type": "code",
      "source": [
        "1e16"
      ],
      "metadata": {
        "colab": {
          "base_uri": "https://localhost:8080/"
        },
        "id": "owYjkM2PDuvo",
        "outputId": "67774189-ccaa-4a3d-dd75-326722ddf72e"
      },
      "execution_count": null,
      "outputs": [
        {
          "output_type": "execute_result",
          "data": {
            "text/plain": [
              "1e+16"
            ]
          },
          "metadata": {},
          "execution_count": 3
        }
      ]
    },
    {
      "cell_type": "code",
      "source": [
        "0b10"
      ],
      "metadata": {
        "colab": {
          "base_uri": "https://localhost:8080/"
        },
        "id": "LI1iqRpuEaVy",
        "outputId": "a76f7741-3c34-41aa-e04e-f3a737322961"
      },
      "execution_count": null,
      "outputs": [
        {
          "output_type": "execute_result",
          "data": {
            "text/plain": [
              "2"
            ]
          },
          "metadata": {},
          "execution_count": 4
        }
      ]
    },
    {
      "cell_type": "code",
      "source": [
        "'''\n",
        "안녕하세요\n",
        "'''\n",
        "\n",
        "#안녕하세요\n",
        "#위 두문장은 같다\n",
        "\n",
        "print(\"안녕 \\t 안녕\") #탭 입력 제어자이다"
      ],
      "metadata": {
        "colab": {
          "base_uri": "https://localhost:8080/"
        },
        "id": "goZWtd9vYF1l",
        "outputId": "55c3304b-8c9c-4820-bea2-cd276db9bc1f"
      },
      "execution_count": null,
      "outputs": [
        {
          "output_type": "stream",
          "name": "stdout",
          "text": [
            "안녕 \t 안녕\n"
          ]
        }
      ]
    },
    {
      "cell_type": "code",
      "source": [
        "print(\"  ^ ^\\n(')(')\\n  --\")"
      ],
      "metadata": {
        "colab": {
          "base_uri": "https://localhost:8080/"
        },
        "id": "dDHUbI3ejLs3",
        "outputId": "95cc44c6-785b-4c40-f409-523599d68b18"
      },
      "execution_count": null,
      "outputs": [
        {
          "output_type": "stream",
          "name": "stdout",
          "text": [
            "  ^ ^\n",
            "(')(')\n",
            "  --\n"
          ]
        }
      ]
    },
    {
      "cell_type": "code",
      "source": [
        "num = 7\n",
        "print(\"오늘 나는 %d 끼를 먹었습니다\" % num)"
      ],
      "metadata": {
        "colab": {
          "base_uri": "https://localhost:8080/"
        },
        "id": "ByuDToMBk0J4",
        "outputId": "c7f1f11f-7ec3-4940-b4b5-e1330f1531cd"
      },
      "execution_count": null,
      "outputs": [
        {
          "output_type": "stream",
          "name": "stdout",
          "text": [
            "오늘 나는 7 끼를 먹었습니다\n"
          ]
        }
      ]
    },
    {
      "cell_type": "code",
      "source": [
        "num = 7\n",
        "print(\"오늘 나는 %5d 끼를 먹었습니다\" % num)\n",
        "#%뒤에 넣은 숫자만큼 전체 출력 자릿수를 지정할 수 있다\n",
        "#"
      ],
      "metadata": {
        "colab": {
          "base_uri": "https://localhost:8080/"
        },
        "id": "0W30rtpcly2g",
        "outputId": "1f609fb8-9ffb-45e5-ec2c-3ad8673fdbfe"
      },
      "execution_count": null,
      "outputs": [
        {
          "output_type": "stream",
          "name": "stdout",
          "text": [
            "오늘 나는     7 끼를 먹었습니다\n"
          ]
        }
      ]
    },
    {
      "cell_type": "code",
      "source": [
        "num = 7\n",
        "print(\"오늘 나는 %-5d 끼를 먹었습니다\" % num)\n",
        "#뒤에 공백이 생긴다"
      ],
      "metadata": {
        "colab": {
          "base_uri": "https://localhost:8080/"
        },
        "id": "vrOT23C4mNg0",
        "outputId": "34c897c7-2019-4992-d88b-a6a580765ec1"
      },
      "execution_count": null,
      "outputs": [
        {
          "output_type": "stream",
          "name": "stdout",
          "text": [
            "오늘 나는 7     끼를 먹었습니다\n"
          ]
        }
      ]
    },
    {
      "cell_type": "code",
      "source": [
        "person1 = '조현준'\n",
        "person2 = '한채린' #채신기술 !\n",
        "print(f\"{person1}는 {person2}와 밥을 먹었습니다\") #f string"
      ],
      "metadata": {
        "colab": {
          "base_uri": "https://localhost:8080/"
        },
        "id": "VT7qNsgDnHEG",
        "outputId": "9d1b8a68-e15a-4fab-aba8-d20fe9dce0a9"
      },
      "execution_count": null,
      "outputs": [
        {
          "output_type": "stream",
          "name": "stdout",
          "text": [
            "조현준는 한채린와 밥을 먹었습니다\n"
          ]
        }
      ]
    },
    {
      "cell_type": "code",
      "source": [
        "a= \"안녕\"*40\n",
        "print(a)"
      ],
      "metadata": {
        "colab": {
          "base_uri": "https://localhost:8080/"
        },
        "id": "_FNsxYGknxm2",
        "outputId": "be71c219-be61-4980-9510-fb9a9d1b2eb0"
      },
      "execution_count": null,
      "outputs": [
        {
          "output_type": "stream",
          "name": "stdout",
          "text": [
            "안녕안녕안녕안녕안녕안녕안녕안녕안녕안녕안녕안녕안녕안녕안녕안녕안녕안녕안녕안녕안녕안녕안녕안녕안녕안녕안녕안녕안녕안녕안녕안녕안녕안녕안녕안녕안녕안녕안녕안녕\n"
          ]
        }
      ]
    },
    {
      "cell_type": "code",
      "source": [
        "print(\"안\"+\"녕\")"
      ],
      "metadata": {
        "colab": {
          "base_uri": "https://localhost:8080/"
        },
        "id": "LferWJG0n93m",
        "outputId": "222bd151-5704-4375-8ca4-2a7621123776"
      },
      "execution_count": null,
      "outputs": [
        {
          "output_type": "stream",
          "name": "stdout",
          "text": [
            "안녕\n"
          ]
        }
      ]
    },
    {
      "cell_type": "code",
      "source": [
        "sentence =\"안녕하세요 조현준입니다\"\n",
        "sentence[2:3]   #출력하고자하는 값 +1부터 시작해야한다"
      ],
      "metadata": {
        "colab": {
          "base_uri": "https://localhost:8080/",
          "height": 35
        },
        "id": "1TLlYGWBplpW",
        "outputId": "08ded64e-6f6e-4828-8644-38109644f4b8"
      },
      "execution_count": null,
      "outputs": [
        {
          "output_type": "execute_result",
          "data": {
            "text/plain": [
              "'하'"
            ],
            "application/vnd.google.colaboratory.intrinsic+json": {
              "type": "string"
            }
          },
          "metadata": {},
          "execution_count": 12
        }
      ]
    },
    {
      "cell_type": "code",
      "source": [
        "print(\"조현준\" in \"안녕하세요 조현준입니다\")"
      ],
      "metadata": {
        "colab": {
          "base_uri": "https://localhost:8080/"
        },
        "id": "QHXpvcoiqrzf",
        "outputId": "41c3c560-73b5-4487-e238-a14cc8dcc44f"
      },
      "execution_count": null,
      "outputs": [
        {
          "output_type": "stream",
          "name": "stdout",
          "text": [
            "True\n"
          ]
        }
      ]
    },
    {
      "cell_type": "code",
      "source": [
        "sentence =\"안녕하세요 조현준입니다\"\n",
        "sentence[:]"
      ],
      "metadata": {
        "colab": {
          "base_uri": "https://localhost:8080/",
          "height": 35
        },
        "id": "BoOA7YFCrcNU",
        "outputId": "1936f724-1505-4efc-9b53-73900d0d8f9b"
      },
      "execution_count": null,
      "outputs": [
        {
          "output_type": "execute_result",
          "data": {
            "text/plain": [
              "'안녕하세요 조현준입니다'"
            ],
            "application/vnd.google.colaboratory.intrinsic+json": {
              "type": "string"
            }
          },
          "metadata": {},
          "execution_count": 14
        }
      ]
    },
    {
      "cell_type": "code",
      "source": [
        "a =\"hello\"\n",
        "print(a.upper())   #비파괴적 함수로 원본 a값은 바뀌지 않는다\n",
        "print(a)"
      ],
      "metadata": {
        "colab": {
          "base_uri": "https://localhost:8080/"
        },
        "id": "9hdoAPc5t4HE",
        "outputId": "b7b6d351-8b50-4847-88b8-ee5b17d971c2"
      },
      "execution_count": null,
      "outputs": [
        {
          "output_type": "stream",
          "name": "stdout",
          "text": [
            "HELLO\n",
            "hello\n"
          ]
        }
      ]
    },
    {
      "cell_type": "code",
      "source": [
        "a=\"안녕안녕하세요\".rfind(\"안녕\")\n",
        "print(a)    #문장의 오른쪽부터 검색"
      ],
      "metadata": {
        "colab": {
          "base_uri": "https://localhost:8080/"
        },
        "id": "lOC9nBxEu4j-",
        "outputId": "05d0be3e-5457-45b4-f1d5-0804cebb343e"
      },
      "execution_count": null,
      "outputs": [
        {
          "output_type": "stream",
          "name": "stdout",
          "text": [
            "2\n"
          ]
        }
      ]
    },
    {
      "cell_type": "code",
      "source": [
        "a=\"10 20 30 40\".split()\n",
        "print(a)      #원하는 기준으로 나누기"
      ],
      "metadata": {
        "colab": {
          "base_uri": "https://localhost:8080/"
        },
        "id": "htpSMAZOvPMW",
        "outputId": "e9187b3b-f7a2-4bd8-c1e4-89264bda4c8c"
      },
      "execution_count": null,
      "outputs": [
        {
          "output_type": "stream",
          "name": "stdout",
          "text": [
            "['10', '20', '30', '40']\n"
          ]
        }
      ]
    },
    {
      "cell_type": "code",
      "source": [
        "\"ptrhon2022\".isalnum() and \"Python\".isupper()"
      ],
      "metadata": {
        "colab": {
          "base_uri": "https://localhost:8080/"
        },
        "id": "d_TfWARnw1hM",
        "outputId": "c9719d1b-e7d5-4b35-f5a6-2e7e8159b490"
      },
      "execution_count": null,
      "outputs": [
        {
          "output_type": "execute_result",
          "data": {
            "text/plain": [
              "False"
            ]
          },
          "metadata": {},
          "execution_count": 24
        }
      ]
    },
    {
      "cell_type": "code",
      "source": [
        "print(\"고려대학교\\t세종캠퍼스\\n창립캠퍼스: 1980년\\n학생 수: 7,240\\n지역 : 충청남도\\n색상 : 크림슨\")"
      ],
      "metadata": {
        "colab": {
          "base_uri": "https://localhost:8080/"
        },
        "id": "OjUGQEl2V7jv",
        "outputId": "b5d4afdc-29b9-465f-d29b-c96134192f97"
      },
      "execution_count": null,
      "outputs": [
        {
          "output_type": "stream",
          "name": "stdout",
          "text": [
            "고려대학교\t세종캠퍼스\n",
            "창립캠퍼스: 1980년\n",
            "학생 수: 7,240\n",
            "지역 : 충청남도\n",
            "색상 : 크림슨\n"
          ]
        }
      ]
    },
    {
      "cell_type": "code",
      "source": [
        "a=\"안녕하세요\"+\"파이썬\"\n",
        "b=\"요파\"\n",
        "if(a.find(b)):\n",
        "  print(True)\n",
        "else:\n",
        "  print(False)"
      ],
      "metadata": {
        "colab": {
          "base_uri": "https://localhost:8080/"
        },
        "id": "X6Zq35HFW5I7",
        "outputId": "548b5e4d-7b91-4f2d-fcc7-b01e0719c5bd"
      },
      "execution_count": null,
      "outputs": [
        {
          "output_type": "stream",
          "name": "stdout",
          "text": [
            "True\n"
          ]
        }
      ]
    },
    {
      "cell_type": "code",
      "source": [
        "a=\"안녕하세요\"+\"파이썬\"\n",
        "b=\"요파\"\n",
        "print(b in a)"
      ],
      "metadata": {
        "colab": {
          "base_uri": "https://localhost:8080/"
        },
        "id": "xEO6yyF3Yw9t",
        "outputId": "8ab20028-a7c3-4989-b3ff-fcee4a7602d9"
      },
      "execution_count": null,
      "outputs": [
        {
          "output_type": "stream",
          "name": "stdout",
          "text": [
            "True\n"
          ]
        }
      ]
    },
    {
      "cell_type": "code",
      "source": [
        "a=\"넌 나만 보면 매일 a busy guy 종일 할 일이 너무 많아\"\n",
        "print(a[12:22])"
      ],
      "metadata": {
        "colab": {
          "base_uri": "https://localhost:8080/"
        },
        "id": "_uEFuO5CYWtf",
        "outputId": "eaa9ecb6-3eef-4e47-bd8a-a1c98b29918a"
      },
      "execution_count": null,
      "outputs": [
        {
          "output_type": "stream",
          "name": "stdout",
          "text": [
            " busy guy \n"
          ]
        }
      ]
    },
    {
      "cell_type": "code",
      "source": [
        "a='Daum KaKao'\n",
        "print(a[5:]+' '+a[0:4])"
      ],
      "metadata": {
        "colab": {
          "base_uri": "https://localhost:8080/"
        },
        "id": "-xsfWoIGYst4",
        "outputId": "a8e7a7c6-b167-4a7b-c039-7630fca41f3e"
      },
      "execution_count": null,
      "outputs": [
        {
          "output_type": "stream",
          "name": "stdout",
          "text": [
            "KaKao Daum\n"
          ]
        }
      ]
    },
    {
      "cell_type": "code",
      "source": [
        "a=\"Hello, Python\"\n",
        "\n",
        "print(f\"{a}의 길이는 {len(a)}입니다\")"
      ],
      "metadata": {
        "colab": {
          "base_uri": "https://localhost:8080/"
        },
        "id": "m685uZxca-su",
        "outputId": "41c09487-29be-4341-d19b-cb097c4edad6"
      },
      "execution_count": null,
      "outputs": [
        {
          "output_type": "stream",
          "name": "stdout",
          "text": [
            "Hello, Python의 길이는 13입니다\n"
          ]
        }
      ]
    },
    {
      "cell_type": "code",
      "source": [
        "a=\"imhungry\"\n",
        "print(a.isalpha())"
      ],
      "metadata": {
        "colab": {
          "base_uri": "https://localhost:8080/"
        },
        "id": "3_89euxddK9o",
        "outputId": "233d0594-fad3-4b8b-cbef-a815a0d5deb8"
      },
      "execution_count": null,
      "outputs": [
        {
          "output_type": "stream",
          "name": "stdout",
          "text": [
            "True\n"
          ]
        }
      ]
    },
    {
      "cell_type": "code",
      "source": [
        "myStr = 'BigPy'\n",
        "print(myStr.upper())\n",
        "print(myStr.lower())\n",
        "print(myStr.swapcase())\n",
        "print(myStr.title())"
      ],
      "metadata": {
        "colab": {
          "base_uri": "https://localhost:8080/"
        },
        "id": "ik7AD4W8eUhh",
        "outputId": "3e6b32a9-5e24-4df2-ec84-5fb6c66af0f6"
      },
      "execution_count": null,
      "outputs": [
        {
          "output_type": "stream",
          "name": "stdout",
          "text": [
            "BIGPY\n",
            "bigpy\n",
            "bIGpY\n",
            "Bigpy\n"
          ]
        }
      ]
    },
    {
      "cell_type": "code",
      "source": [
        "myStr = 'Big Py, Korea University, Big Data'\n",
        "myStr.rfind('Big')"
      ],
      "metadata": {
        "colab": {
          "base_uri": "https://localhost:8080/"
        },
        "id": "ve8rkc2hf36i",
        "outputId": "b15b9dbe-d405-4aab-c3c5-131e65019a7c"
      },
      "execution_count": null,
      "outputs": [
        {
          "output_type": "execute_result",
          "data": {
            "text/plain": [
              "26"
            ]
          },
          "metadata": {},
          "execution_count": 19
        }
      ]
    },
    {
      "cell_type": "code",
      "source": [
        "a=\"5969782550\"\n",
        "b=eval(a)*74200\n",
        "print(\"삼성전자 시가총액은 \",b,\"입니다\")"
      ],
      "metadata": {
        "colab": {
          "base_uri": "https://localhost:8080/"
        },
        "id": "bj2YkWJ6Cs6T",
        "outputId": "12eb1e98-a56a-4dea-8370-febaafb50269"
      },
      "execution_count": null,
      "outputs": [
        {
          "output_type": "stream",
          "name": "stdout",
          "text": [
            "삼성전자 시가총액은  442957865210000 입니다\n"
          ]
        }
      ]
    },
    {
      "cell_type": "code",
      "source": [
        "lang = 'python'\n",
        "lang[0] = 'P'   #문자열은 수정이 불가능하다\n",
        "print(lang)"
      ],
      "metadata": {
        "colab": {
          "base_uri": "https://localhost:8080/",
          "height": 209
        },
        "id": "qCjVrIpYHmaF",
        "outputId": "45b23bcc-0378-4d59-c5c7-066005f23a72"
      },
      "execution_count": null,
      "outputs": [
        {
          "output_type": "error",
          "ename": "TypeError",
          "evalue": "ignored",
          "traceback": [
            "\u001b[0;31m---------------------------------------------------------------------------\u001b[0m",
            "\u001b[0;31mTypeError\u001b[0m                                 Traceback (most recent call last)",
            "\u001b[0;32m<ipython-input-15-ba8eb7824ab8>\u001b[0m in \u001b[0;36m<module>\u001b[0;34m()\u001b[0m\n\u001b[1;32m      1\u001b[0m \u001b[0mlang\u001b[0m \u001b[0;34m=\u001b[0m \u001b[0;34m'python'\u001b[0m\u001b[0;34m\u001b[0m\u001b[0;34m\u001b[0m\u001b[0m\n\u001b[0;32m----> 2\u001b[0;31m \u001b[0mlang\u001b[0m\u001b[0;34m[\u001b[0m\u001b[0;36m0\u001b[0m\u001b[0;34m]\u001b[0m \u001b[0;34m=\u001b[0m \u001b[0;34m'P'\u001b[0m\u001b[0;34m\u001b[0m\u001b[0;34m\u001b[0m\u001b[0m\n\u001b[0m\u001b[1;32m      3\u001b[0m \u001b[0mprint\u001b[0m\u001b[0;34m(\u001b[0m\u001b[0mlang\u001b[0m\u001b[0;34m)\u001b[0m\u001b[0;34m\u001b[0m\u001b[0;34m\u001b[0m\u001b[0m\n",
            "\u001b[0;31mTypeError\u001b[0m: 'str' object does not support item assignment"
          ]
        }
      ]
    },
    {
      "cell_type": "code",
      "source": [
        "print(list(range(1, 20, 0.8)))"
      ],
      "metadata": {
        "colab": {
          "base_uri": "https://localhost:8080/",
          "height": 172
        },
        "id": "PhpOztK6Ros4",
        "outputId": "043cd435-96f9-41d0-e161-e63d93fa4d50"
      },
      "execution_count": null,
      "outputs": [
        {
          "output_type": "error",
          "ename": "TypeError",
          "evalue": "ignored",
          "traceback": [
            "\u001b[0;31m---------------------------------------------------------------------------\u001b[0m",
            "\u001b[0;31mTypeError\u001b[0m                                 Traceback (most recent call last)",
            "\u001b[0;32m<ipython-input-2-537521978e8a>\u001b[0m in \u001b[0;36m<module>\u001b[0;34m()\u001b[0m\n\u001b[0;32m----> 1\u001b[0;31m \u001b[0mprint\u001b[0m\u001b[0;34m(\u001b[0m\u001b[0mlist\u001b[0m\u001b[0;34m(\u001b[0m\u001b[0mrange\u001b[0m\u001b[0;34m(\u001b[0m\u001b[0;36m1\u001b[0m\u001b[0;34m,\u001b[0m \u001b[0;36m20\u001b[0m\u001b[0;34m,\u001b[0m \u001b[0;36m0.8\u001b[0m\u001b[0;34m)\u001b[0m\u001b[0;34m)\u001b[0m\u001b[0;34m)\u001b[0m\u001b[0;34m\u001b[0m\u001b[0;34m\u001b[0m\u001b[0m\n\u001b[0m",
            "\u001b[0;31mTypeError\u001b[0m: 'float' object cannot be interpreted as an integer"
          ]
        }
      ]
    },
    {
      "cell_type": "code",
      "source": [
        "#i =  0 파이썬에선 있어도 되고 없어도 된다\n",
        "sum = 0\n",
        "for i in range(0,7,1): #1은 생략가능 0~6동안 반복\n",
        "  sum= sum + i\n",
        "  print(i, sum)\n",
        "  i = i + 1\n"
      ],
      "metadata": {
        "colab": {
          "base_uri": "https://localhost:8080/"
        },
        "id": "_JCA4TNJay2v",
        "outputId": "2737cfae-f61b-4c5e-8a1c-d9b7e9764b14"
      },
      "execution_count": null,
      "outputs": [
        {
          "output_type": "stream",
          "name": "stdout",
          "text": [
            "0 0\n",
            "1 1\n",
            "2 3\n",
            "3 6\n",
            "4 10\n",
            "5 15\n",
            "6 21\n"
          ]
        }
      ]
    },
    {
      "cell_type": "code",
      "source": [
        "i = 0\n",
        "sum = 0\n",
        "while(i<7):\n",
        "  sum = sum + i\n",
        "  print(i, sum)\n",
        "  i = i + 1"
      ],
      "metadata": {
        "colab": {
          "base_uri": "https://localhost:8080/"
        },
        "id": "8en3GCf-bSVp",
        "outputId": "9af812aa-ee9c-4d63-b364-e8c5c9a7530a"
      },
      "execution_count": null,
      "outputs": [
        {
          "output_type": "stream",
          "name": "stdout",
          "text": [
            "0 0\n",
            "1 1\n",
            "2 3\n",
            "3 6\n",
            "4 10\n",
            "5 15\n",
            "6 21\n"
          ]
        }
      ]
    },
    {
      "cell_type": "code",
      "source": [
        "my=input(\"put num: \")\n",
        "#input 함수는 지정한 문장 다음 입력칸을 보여준다\n",
        "#입력안내 문자를 보여준다\n",
        "print(\"you put\",my,\"!\")\n",
        "#대신 input으로 받으면 무엇이든 문자열로 출력"
      ],
      "metadata": {
        "colab": {
          "base_uri": "https://localhost:8080/"
        },
        "id": "zmCf6pRAPxHI",
        "outputId": "9d93ad51-eb0e-4ec6-ba77-8207d6053b80"
      },
      "execution_count": null,
      "outputs": [
        {
          "output_type": "stream",
          "name": "stdout",
          "text": [
            "put num: 1\n",
            "you put 1 !\n"
          ]
        }
      ]
    },
    {
      "cell_type": "code",
      "source": [
        "my=input(\"put num: \")\n",
        "print(my+2022)\n",
        "#문자열로 받으므로 이처럼 오류가 발생한다"
      ],
      "metadata": {
        "colab": {
          "base_uri": "https://localhost:8080/",
          "height": 226
        },
        "id": "cx1cRCCxSejT",
        "outputId": "820882f4-0ed6-469f-d127-4dee16ea7b12"
      },
      "execution_count": null,
      "outputs": [
        {
          "name": "stdout",
          "output_type": "stream",
          "text": [
            "put num: 1\n"
          ]
        },
        {
          "output_type": "error",
          "ename": "TypeError",
          "evalue": "ignored",
          "traceback": [
            "\u001b[0;31m---------------------------------------------------------------------------\u001b[0m",
            "\u001b[0;31mTypeError\u001b[0m                                 Traceback (most recent call last)",
            "\u001b[0;32m<ipython-input-5-20b4649b5867>\u001b[0m in \u001b[0;36m<module>\u001b[0;34m()\u001b[0m\n\u001b[1;32m      1\u001b[0m \u001b[0mmy\u001b[0m\u001b[0;34m=\u001b[0m\u001b[0minput\u001b[0m\u001b[0;34m(\u001b[0m\u001b[0;34m\"put num: \"\u001b[0m\u001b[0;34m)\u001b[0m\u001b[0;34m\u001b[0m\u001b[0;34m\u001b[0m\u001b[0m\n\u001b[0;32m----> 2\u001b[0;31m \u001b[0mprint\u001b[0m\u001b[0;34m(\u001b[0m\u001b[0mmy\u001b[0m\u001b[0;34m+\u001b[0m\u001b[0;36m2022\u001b[0m\u001b[0;34m)\u001b[0m\u001b[0;34m\u001b[0m\u001b[0;34m\u001b[0m\u001b[0m\n\u001b[0m\u001b[1;32m      3\u001b[0m \u001b[0;31m#문자열로 받으므로 이처럼 오류가 발생한다\u001b[0m\u001b[0;34m\u001b[0m\u001b[0;34m\u001b[0m\u001b[0;34m\u001b[0m\u001b[0m\n",
            "\u001b[0;31mTypeError\u001b[0m: can only concatenate str (not \"int\") to str"
          ]
        }
      ]
    },
    {
      "cell_type": "code",
      "source": [
        "my=int(input(\"put num: \"))\n",
        "print(my+2022)\n",
        "#해결!"
      ],
      "metadata": {
        "colab": {
          "base_uri": "https://localhost:8080/"
        },
        "id": "nlgQMTRTTZff",
        "outputId": "8d26cf89-5d34-4033-b71e-a6e7f8909492"
      },
      "execution_count": null,
      "outputs": [
        {
          "output_type": "stream",
          "name": "stdout",
          "text": [
            "put num: 1\n",
            "2023\n"
          ]
        }
      ]
    },
    {
      "cell_type": "code",
      "source": [
        "x = -5\n",
        "y = 6\n",
        "print((-y)**3 + 2*(x**2)*y)"
      ],
      "metadata": {
        "id": "CswjfqLdTty6",
        "colab": {
          "base_uri": "https://localhost:8080/"
        },
        "outputId": "e402b40d-4f61-4b91-f240-4331b774322f"
      },
      "execution_count": null,
      "outputs": [
        {
          "output_type": "stream",
          "name": "stdout",
          "text": [
            "84\n"
          ]
        }
      ]
    },
    {
      "cell_type": "code",
      "source": [
        "import time\n",
        "print(time.strftime('%y-%m-%d %H:%M:%S'))\n",
        "\n",
        "a = time.strftime('%Y')\n",
        "b = 2065-int(a)\n",
        "print(21+b)"
      ],
      "metadata": {
        "colab": {
          "base_uri": "https://localhost:8080/"
        },
        "id": "9xBJRho3ZMOQ",
        "outputId": "4f6c9636-f3f1-4ab2-e3e2-8ed397116e41"
      },
      "execution_count": null,
      "outputs": [
        {
          "output_type": "stream",
          "name": "stdout",
          "text": [
            "22-05-07 12:20:31\n",
            "64\n"
          ]
        }
      ]
    },
    {
      "cell_type": "code",
      "source": [
        "a = int(input (\"소금물의 양은?: \"))\n",
        "b = int(input (\"들어간 소금의 양은?: \"))\n",
        "c = b/a*100\n",
        "print(round(c,3))"
      ],
      "metadata": {
        "colab": {
          "base_uri": "https://localhost:8080/"
        },
        "id": "hXbSztYgeYLg",
        "outputId": "bdc38653-db46-4b44-a6e9-5d1111cf3074"
      },
      "execution_count": null,
      "outputs": [
        {
          "output_type": "stream",
          "name": "stdout",
          "text": [
            "소금물의 양은?: 12132\n",
            "들어간 소금의 양은?: 121\n",
            "0.997\n"
          ]
        }
      ]
    },
    {
      "cell_type": "code",
      "source": [
        "A=int(input())\n",
        "B=int(input())\n",
        "C=int(input())\n",
        "res1 = (A+B)%C\n",
        "res2 = ((A%C) + (B%C))%C\n",
        "res3 = ((A%C) * (B%C))%C\n",
        "print(res1 == res2, res1, res2,'\\n',res3 == res1, res1, res3)"
      ],
      "metadata": {
        "colab": {
          "base_uri": "https://localhost:8080/"
        },
        "id": "l32fxM819wN3",
        "outputId": "39ac6a6f-2f1d-4abe-e090-593bcf59386f"
      },
      "execution_count": null,
      "outputs": [
        {
          "output_type": "stream",
          "name": "stdout",
          "text": [
            "1\n",
            "2\n",
            "3\n",
            "True 0 0 \n",
            " False 0 2\n"
          ]
        }
      ]
    },
    {
      "cell_type": "code",
      "source": [
        "n1=int(input())\n",
        "print(n1)\n",
        "\n",
        "n2=int(input())\n",
        "print(n2)\n",
        "\n",
        "a=int(n2/100)\n",
        "b=int((n2-a*100)/10)\n",
        "c=int((n2-a*100-b*10))\n",
        "\n",
        "n3=n1*c\n",
        "print(n3)\n",
        "\n",
        "n4=n1*b*10\n",
        "print(n4)\n",
        "\n",
        "n5=n1*a*100\n",
        "print(n5)\n",
        "\n",
        "result=n3+n4+n5\n",
        "print(result)"
      ],
      "metadata": {
        "colab": {
          "base_uri": "https://localhost:8080/"
        },
        "id": "uFNcbxhrAeAP",
        "outputId": "518a0e66-d469-4ef2-d655-b5710c143100"
      },
      "execution_count": null,
      "outputs": [
        {
          "output_type": "stream",
          "name": "stdout",
          "text": [
            "123\n",
            "123\n",
            "456\n",
            "456\n",
            "738\n",
            "6150\n",
            "49200\n",
            "56088\n"
          ]
        }
      ]
    },
    {
      "cell_type": "code",
      "source": [
        "a=float(input(\"야드값을 입력하시오:\"))\n",
        "b=a*91.44\n",
        "print(a,\"야드는\",b,\"cm 이다.\")"
      ],
      "metadata": {
        "colab": {
          "base_uri": "https://localhost:8080/"
        },
        "id": "aw_JixqVrLFP",
        "outputId": "96c67646-f46c-445a-d73c-32b250b2b573"
      },
      "execution_count": null,
      "outputs": [
        {
          "output_type": "stream",
          "name": "stdout",
          "text": [
            "야드값을 입력하시오:1\n",
            "1.0 야드는 91.44 cm 이다.\n"
          ]
        }
      ]
    },
    {
      "cell_type": "code",
      "source": [
        "a=int(input(\"가로:\"))\n",
        "b=int(input(\"세로:\"))\n",
        "a=a+5\n",
        "b=b*2\n",
        "print(a, b, a*b)"
      ],
      "metadata": {
        "colab": {
          "base_uri": "https://localhost:8080/"
        },
        "id": "KnJOi2pl1HfX",
        "outputId": "9656aa80-cd6b-4502-98fc-4e167ad59501"
      },
      "execution_count": null,
      "outputs": [
        {
          "output_type": "stream",
          "name": "stdout",
          "text": [
            "가로:1\n",
            "세로:2\n",
            "6 4 24\n"
          ]
        }
      ]
    },
    {
      "cell_type": "code",
      "source": [
        "a=input(\"str1:\")\n",
        "b=input(\"str2:\")\n",
        "c=int(input(\"int:\"))\n",
        "print(b*c,a)"
      ],
      "metadata": {
        "colab": {
          "base_uri": "https://localhost:8080/"
        },
        "id": "Iu01VKOL1vBi",
        "outputId": "904d7de0-d456-4dff-f7ee-aea4f8d7b6d9"
      },
      "execution_count": null,
      "outputs": [
        {
          "output_type": "stream",
          "name": "stdout",
          "text": [
            "str1:ab\n",
            "str2:AB\n",
            "int:4\n",
            "ABABABAB ab\n"
          ]
        }
      ]
    },
    {
      "cell_type": "code",
      "source": [
        "a=True\n",
        "b=True\n",
        "c=False\n",
        "print( not a or (b and not c))"
      ],
      "metadata": {
        "colab": {
          "base_uri": "https://localhost:8080/"
        },
        "id": "D-J6vwxD3k3i",
        "outputId": "088a0acf-3435-427c-c7a4-5fb6466a3064"
      },
      "execution_count": null,
      "outputs": [
        {
          "output_type": "stream",
          "name": "stdout",
          "text": [
            "True\n"
          ]
        }
      ]
    },
    {
      "cell_type": "code",
      "source": [
        "take = int(input(\"낼 돈:\"))\n",
        "price = int(input(\"제품 가격:\"))\n",
        "change = take - price\n",
        "if(change>0):\n",
        "  a = int(change/500)\n",
        "  b = int((change - 500*a)/100)\n",
        "  c = int((change - 500*a - 100*b)/50)\n",
        "  d = int((change - 500*a - 100*b - 50*c)/10)\n",
        "  print(\"500원:\",a,\",100원:\",b,\",50원:\",c,\",10원:\",d)\n",
        "else:\n",
        "  print(\"돈을 더 내야합니다\")"
      ],
      "metadata": {
        "colab": {
          "base_uri": "https://localhost:8080/"
        },
        "id": "y3QyBY2b4b3N",
        "outputId": "264bfef6-551d-43bf-c7ea-36ebdd05f50c"
      },
      "execution_count": null,
      "outputs": [
        {
          "output_type": "stream",
          "name": "stdout",
          "text": [
            "낼 돈:10000\n",
            "제품 가격:2800\n",
            "500원: 14 ,100원: 2 ,50원: 0 ,10원: 0\n"
          ]
        }
      ]
    },
    {
      "cell_type": "code",
      "source": [
        "age=int(input())\n",
        "if age==21:\n",
        "  print(\"동갑입니다\")\n",
        "else:\n",
        "  print(\"몇살이여?\")\n",
        "\n",
        "  #조건문에는 무조건 트루 펄스 나오는것만"
      ],
      "metadata": {
        "colab": {
          "base_uri": "https://localhost:8080/"
        },
        "id": "QqBmi5FTqq8t",
        "outputId": "f3a5ac64-2cae-47b3-97ee-79bff5d7ca58"
      },
      "execution_count": null,
      "outputs": [
        {
          "output_type": "stream",
          "name": "stdout",
          "text": [
            "100\n",
            "몇살이여?\n"
          ]
        }
      ]
    },
    {
      "cell_type": "code",
      "source": [
        ""
      ],
      "metadata": {
        "id": "G-BgBGD0rPtG"
      },
      "execution_count": null,
      "outputs": []
    },
    {
      "cell_type": "code",
      "source": [
        "a-int(input())\n",
        "if(a>10000):\n",
        "  print(\"택시타자~\")\n",
        "else:\n",
        "  print(\"걸어가자...\")"
      ],
      "metadata": {
        "id": "A64qdqKarQmQ"
      },
      "execution_count": null,
      "outputs": []
    },
    {
      "cell_type": "code",
      "source": [
        "a=int(input(\"얼마?:\"))\n",
        "if(a>=500):\n",
        "  print(\"붕어빵 사먹자\")\n",
        "else:\n",
        "  print(\"돈이 500원 미만입니다\")"
      ],
      "metadata": {
        "id": "gI5AdtsntFtp"
      },
      "execution_count": null,
      "outputs": []
    },
    {
      "cell_type": "code",
      "source": [
        "a=int(input(\"얼마?:\"))\n",
        "if(a==500):\n",
        "  print(\"500d원\")\n",
        "elif(a<500):\n",
        "  print(\"500원 미만\")\n",
        "else:\n",
        "  print(\"500원 초과!\")"
      ],
      "metadata": {
        "id": "XJk-XlAguVxg"
      },
      "execution_count": null,
      "outputs": []
    },
    {
      "cell_type": "code",
      "source": [
        "maro=\"백수\"\n",
        "if(maro==\"백수\"):\n",
        "  #아무것도 안할때는 pass를 반드시 추가해줘야 한다\n",
        "  pass"
      ],
      "metadata": {
        "id": "BAoGmlxIvWHj"
      },
      "execution_count": null,
      "outputs": []
    },
    {
      "cell_type": "code",
      "source": [
        "if True:\n",
        "  print(\"1\")\n",
        "  print(\"2\")\n",
        "  print(\"3\")"
      ],
      "metadata": {
        "colab": {
          "base_uri": "https://localhost:8080/"
        },
        "id": "K8ih6p_Rv96t",
        "outputId": "5fc6cdc6-c000-41f6-fe0f-59c110f5c6d5"
      },
      "execution_count": null,
      "outputs": [
        {
          "output_type": "stream",
          "name": "stdout",
          "text": [
            "1\n",
            "2\n",
            "3\n"
          ]
        }
      ]
    },
    {
      "cell_type": "code",
      "source": [
        "score=50\n",
        "if score==60:\n",
        "  mae=\"a\"\n",
        "else:\n",
        "  mae=\"b\"\n",
        "\n",
        "#두개는 같은 코드이다\n",
        "mae=\"a\" if score==60 else mae=\"b\"\n",
        "\n",
        "#3항 이상일때는 이용하면 가독성 하락"
      ],
      "metadata": {
        "id": "3zkBCz48xB9j"
      },
      "execution_count": null,
      "outputs": []
    },
    {
      "cell_type": "code",
      "source": [
        "list =[\"두리안\", \"용과\", \"멜론\", \"리치\", \"사과\"]\n",
        "a = input(\"과일을 입력하세용: \")\n",
        "if a in list:\n",
        "  print(\"있거덩\")\n",
        "else:\n",
        "  print(\"없거덩\")"
      ],
      "metadata": {
        "colab": {
          "base_uri": "https://localhost:8080/"
        },
        "id": "kQapu5TR1BYl",
        "outputId": "86d7d63c-3576-4598-caba-f8e3f56ec98e"
      },
      "execution_count": null,
      "outputs": [
        {
          "output_type": "stream",
          "name": "stdout",
          "text": [
            "과일을 입력하세용: 사과\n",
            "있거덩\n"
          ]
        }
      ]
    },
    {
      "cell_type": "code",
      "source": [
        "a='Hello World'\n",
        "for i in a:\n",
        "  if (i.isupper()):\n",
        "    print(i.lower(),end=\"\")\n",
        "  else:\n",
        "    print(i.upper(),end=\"\")"
      ],
      "metadata": {
        "colab": {
          "base_uri": "https://localhost:8080/"
        },
        "id": "KezUyCnPoNKZ",
        "outputId": "0e2af993-1757-49c1-f1f9-54c3569b26b5"
      },
      "execution_count": null,
      "outputs": [
        {
          "output_type": "stream",
          "name": "stdout",
          "text": [
            "hELLO wORLD"
          ]
        }
      ]
    },
    {
      "cell_type": "code",
      "source": [
        "a=int(input(\"점수를 입력하시오:\"))\n",
        "if 81<=a<=100:\n",
        "  print(\"학점은 A입니다\")\n",
        "elif 61<=a<81:\n",
        "  print(\"학점은 B입니다\")\n",
        "elif 41<=a<61:\n",
        "  print(\"학점은 C입니다\")\n",
        "elif 21<=a<40:\n",
        "  print(\"학점은 D입니다\")\n",
        "elif 0<=a<21:\n",
        "  print(\"학점은 F입니다\")\n",
        "else:\n",
        "  print(\"적절하지 않은 점수입니다\")"
      ],
      "metadata": {
        "colab": {
          "base_uri": "https://localhost:8080/"
        },
        "id": "v-LIrgGTtmLw",
        "outputId": "2c9541a6-e0fa-452e-c19d-2c9ca509a2e2"
      },
      "execution_count": null,
      "outputs": [
        {
          "output_type": "stream",
          "name": "stdout",
          "text": [
            "점수를 입력하시오:18\n",
            "학점은 F입니다\n"
          ]
        }
      ]
    },
    {
      "cell_type": "code",
      "source": [
        "x=int(input(\"x를 입력하시오:\"))\n",
        "y=int(input(\"y를 입력하시오\"))\n",
        "if x>1:\n",
        "  if y>1:\n",
        "    print(\"1사분면입니다\")\n",
        "  else:\n",
        "    print(\"4사분면입니다\")\n",
        "elif y>1:\n",
        "  print(\"2사분면입니다\")\n",
        "else:\n",
        "  print(\"3사분면입니다\")"
      ],
      "metadata": {
        "colab": {
          "base_uri": "https://localhost:8080/"
        },
        "id": "fj5yQD2bv3lV",
        "outputId": "fa4888e4-89e7-4d95-e683-782877841fef"
      },
      "execution_count": null,
      "outputs": [
        {
          "output_type": "stream",
          "name": "stdout",
          "text": [
            "x를 입력하시오:1\n",
            "y를 입력하시오-5\n",
            "3사분면입니다\n"
          ]
        }
      ]
    },
    {
      "cell_type": "code",
      "source": [
        "x=int(input(\"x를 입력하시오:\"))\n",
        "y=int(input(\"y를 입력하시오\"))\n",
        "z=int(input(\"z를 입력하시오:\"))\n",
        "if x<y and x<z:\n",
        "  print(\"가장 작은수: %i\" %x)\n",
        "elif x<y:\n",
        "  print(\"가장 작은 수는 %i\" %z)\n",
        "else:\n",
        "  print(\"가장 작은 슈는 %i\" %y)"
      ],
      "metadata": {
        "colab": {
          "base_uri": "https://localhost:8080/"
        },
        "id": "XQmVn4Ydwq-0",
        "outputId": "5ed4eb0e-4667-4a84-e948-405aab46ef5f"
      },
      "execution_count": null,
      "outputs": [
        {
          "output_type": "stream",
          "name": "stdout",
          "text": [
            "x를 입력하시오:2\n",
            "y를 입력하시오5\n",
            "z를 입력하시오:11\n",
            "가장 작은수: 2\n"
          ]
        }
      ]
    },
    {
      "cell_type": "code",
      "source": [
        "cat = int(input(\"고양이:\"))\n",
        "dog = int(input(\"강아지:\"))\n",
        "print(f\"고양이의 주사위 숫자는 {cat}이고, 강아지 주사위 숫자는 {dog}입니다.\")\n",
        "if cat>dog:\n",
        "  print(\"고양이 승\")\n",
        "elif dog>cat:\n",
        "  print(\"강아지 승\")\n",
        "else:\n",
        "  print(\"비김\")"
      ],
      "metadata": {
        "colab": {
          "base_uri": "https://localhost:8080/"
        },
        "id": "erpgTFXk1Tny",
        "outputId": "4dbc539a-e8c6-4cbc-c560-8621ce6f60c8"
      },
      "execution_count": null,
      "outputs": [
        {
          "output_type": "stream",
          "name": "stdout",
          "text": [
            "고양이:1\n",
            "강아지:2\n",
            "고양이의 주사위 숫자는 1이고, 강아지 주사위 숫자는 2입니다.\n",
            "강아지 승\n"
          ]
        }
      ]
    },
    {
      "cell_type": "code",
      "source": [
        "a=input(\"주민번호:\")\n",
        "len = 12\n",
        "total = 0\n",
        "for i in range(len-1):\n",
        "  mul = int(a[i])*(i+2)\n",
        "  total += mul\n",
        "if int(a[12])== 11-(total%11):\n",
        "  print(\"유효한 주민번호\")\n",
        "else:\n",
        "  print(\"무효한 주민번호\")"
      ],
      "metadata": {
        "colab": {
          "base_uri": "https://localhost:8080/"
        },
        "id": "Ne4HlY7e2uxW",
        "outputId": "da2bb1c2-836a-41db-8f55-24de3dd84281"
      },
      "execution_count": null,
      "outputs": [
        {
          "output_type": "stream",
          "name": "stdout",
          "text": [
            "주민번호:2345676587678\n",
            "무효한 주민번호\n"
          ]
        }
      ]
    },
    {
      "cell_type": "code",
      "source": [
        "temp = 0\n",
        "for a in range(1,11):\n",
        "  temp = a+temp\n",
        "print(temp)"
      ],
      "metadata": {
        "colab": {
          "base_uri": "https://localhost:8080/"
        },
        "id": "uiBrp-_iXkuW",
        "outputId": "d4d00a99-76a5-4133-f901-68178cefb21b"
      },
      "execution_count": null,
      "outputs": [
        {
          "output_type": "stream",
          "name": "stdout",
          "text": [
            "55\n"
          ]
        }
      ]
    },
    {
      "cell_type": "code",
      "source": [
        "a = int(input())\n",
        "for b in range(1,10):\n",
        "  print(a,\"x\",b,\"=\",a*b)"
      ],
      "metadata": {
        "colab": {
          "base_uri": "https://localhost:8080/"
        },
        "id": "MQAN8XG4NO3_",
        "outputId": "8a3fe1a2-d0f6-410a-f021-ec4747be155a"
      },
      "execution_count": null,
      "outputs": [
        {
          "output_type": "stream",
          "name": "stdout",
          "text": [
            "5\n",
            "5 x 1 = 5\n",
            "5 x 2 = 10\n",
            "5 x 3 = 15\n",
            "5 x 4 = 20\n",
            "5 x 5 = 25\n",
            "5 x 6 = 30\n",
            "5 x 7 = 35\n",
            "5 x 8 = 40\n",
            "5 x 9 = 45\n"
          ]
        }
      ]
    },
    {
      "cell_type": "code",
      "source": [
        "a=list(input())\n",
        "for b in range(len(a)):\n",
        "  if (b%2 == 0):\n",
        "    print(a[b])\n",
        "  else:\n",
        "    pass"
      ],
      "metadata": {
        "colab": {
          "base_uri": "https://localhost:8080/"
        },
        "id": "fuKmlMtdNtsf",
        "outputId": "f213982f-03c3-4b61-8585-c1072c51a8a8"
      },
      "execution_count": null,
      "outputs": [
        {
          "output_type": "stream",
          "name": "stdout",
          "text": [
            "a,s,d,f\n",
            "a\n",
            "s\n",
            "d\n",
            "f\n"
          ]
        }
      ]
    },
    {
      "cell_type": "code",
      "source": [
        "for a in range(1, 31):\n",
        "  if a%3 == 0:\n",
        "    print(a)\n",
        "  else:\n",
        "    pass"
      ],
      "metadata": {
        "colab": {
          "base_uri": "https://localhost:8080/"
        },
        "id": "ro0w97N6QxC-",
        "outputId": "04563c5b-804f-4a4a-f726-d34223ff7cde"
      },
      "execution_count": null,
      "outputs": [
        {
          "output_type": "stream",
          "name": "stdout",
          "text": [
            "3\n",
            "6\n",
            "9\n",
            "12\n",
            "15\n",
            "18\n",
            "21\n",
            "24\n",
            "27\n",
            "30\n"
          ]
        }
      ]
    },
    {
      "cell_type": "code",
      "source": [
        "a=1\n",
        "sum = 0\n",
        "while a<=100:\n",
        "  sum = sum + a\n",
        "  a = a + 1\n",
        "print(sum)"
      ],
      "metadata": {
        "colab": {
          "base_uri": "https://localhost:8080/"
        },
        "id": "9mQ2iH12RLEc",
        "outputId": "86c58298-2abc-43a2-bf1a-b061a3efdf77"
      },
      "execution_count": null,
      "outputs": [
        {
          "output_type": "stream",
          "name": "stdout",
          "text": [
            "5050\n"
          ]
        }
      ]
    },
    {
      "cell_type": "code",
      "source": [
        "a=int(input(\"숫자를 입력하세요: \"))\n",
        "for b in range(1, 10):\n",
        "  print(f\"{a}x{b}={a*b}\")"
      ],
      "metadata": {
        "id": "Az4IwoXoSzTv",
        "colab": {
          "base_uri": "https://localhost:8080/"
        },
        "outputId": "4d354589-45ae-490a-9867-f997c170c650"
      },
      "execution_count": null,
      "outputs": [
        {
          "output_type": "stream",
          "name": "stdout",
          "text": [
            "숫자를 입력하세요: 3\n",
            "3x1=3\n",
            "3x2=6\n",
            "3x3=9\n",
            "3x4=12\n",
            "3x5=15\n",
            "3x6=18\n",
            "3x7=21\n",
            "3x8=24\n",
            "3x9=27\n"
          ]
        }
      ]
    },
    {
      "cell_type": "code",
      "source": [
        "dongs = [\"6209동\", \"6208동\", \"6207동\"]\n",
        "hos = [\"101호\", \"102호\", \"103호\", \"104호\"]\n",
        "\n",
        "for a in range(3):\n",
        "  for b in range(0, 4):\n",
        "    print(dongs[a], hos[b])"
      ],
      "metadata": {
        "colab": {
          "base_uri": "https://localhost:8080/"
        },
        "id": "mNImfgeECrKY",
        "outputId": "b17041fe-290c-4a97-c69e-0333966111da"
      },
      "execution_count": null,
      "outputs": [
        {
          "output_type": "stream",
          "name": "stdout",
          "text": [
            "6209동 101호\n",
            "6209동 102호\n",
            "6209동 103호\n",
            "6209동 104호\n",
            "6208동 101호\n",
            "6208동 102호\n",
            "6208동 103호\n",
            "6208동 104호\n",
            "6207동 101호\n",
            "6207동 102호\n",
            "6207동 103호\n",
            "6207동 104호\n"
          ]
        }
      ]
    },
    {
      "cell_type": "code",
      "source": [
        "N = int(input())\n",
        "if (1 <= N <= 200):\n",
        "  for a in range(4):\n",
        "    print(\"Hello World, BigPy!\")"
      ],
      "metadata": {
        "colab": {
          "base_uri": "https://localhost:8080/"
        },
        "id": "YrAhU2kIEpM_",
        "outputId": "be8df168-854b-4291-ca79-66067f36e885"
      },
      "execution_count": null,
      "outputs": [
        {
          "output_type": "stream",
          "name": "stdout",
          "text": [
            "4\n",
            "Hello World, BigPy!\n",
            "Hello World, BigPy!\n",
            "Hello World, BigPy!\n",
            "Hello World, BigPy!\n"
          ]
        }
      ]
    },
    {
      "cell_type": "code",
      "source": [
        "dice = [1, 2, 3, 4, 5, 6]\n",
        "for a in range(len(dice)):\n",
        "  for b in range(len(dice)):\n",
        "    if (dice[a]+dice[b]) == 6:\n",
        "      print(dice[a], dice[b])"
      ],
      "metadata": {
        "colab": {
          "base_uri": "https://localhost:8080/"
        },
        "id": "c47NFN4dFPwX",
        "outputId": "51124651-3494-4b6d-9808-475caaec4885"
      },
      "execution_count": null,
      "outputs": [
        {
          "output_type": "stream",
          "name": "stdout",
          "text": [
            "1 5\n",
            "2 4\n",
            "3 3\n",
            "4 2\n",
            "5 1\n"
          ]
        }
      ]
    },
    {
      "cell_type": "code",
      "source": [
        "a = 0\n",
        "for i in range(1, 100):\n",
        "  if i%2 != 0:\n",
        "    print(i, end=\"\")\n",
        "    a = a + i\n",
        "    if i != 99:\n",
        "      print(\"+\", end=\"\")\n",
        "print(\"=\",a)"
      ],
      "metadata": {
        "colab": {
          "base_uri": "https://localhost:8080/"
        },
        "id": "-JdySLm2Go6x",
        "outputId": "70173455-00fb-4565-96f6-e2575832906b"
      },
      "execution_count": null,
      "outputs": [
        {
          "output_type": "stream",
          "name": "stdout",
          "text": [
            "1+3+5+7+9+11+13+15+17+19+21+23+25+27+29+31+33+35+37+39+41+43+45+47+49+51+53+55+57+59+61+63+65+67+69+71+73+75+77+79+81+83+85+87+89+91+93+95+97+99= 2500\n"
          ]
        }
      ]
    },
    {
      "cell_type": "code",
      "source": [
        "umseek = [\"김치\",\"치즈\",\"스팸\",\"김치찌개\",\"탕수육\",\"짜장면\",\"돈까스\",\"우동\",\"샤브샤브\",\"라면\"]\n",
        "print(umseek[4:7])"
      ],
      "metadata": {
        "colab": {
          "base_uri": "https://localhost:8080/"
        },
        "id": "ZBog_ivB3Vej",
        "outputId": "0a231729-4284-4be2-fbce-55416cdbb999"
      },
      "execution_count": 2,
      "outputs": [
        {
          "output_type": "stream",
          "name": "stdout",
          "text": [
            "['탕수육', '짜장면', '돈까스']\n"
          ]
        }
      ]
    },
    {
      "cell_type": "code",
      "source": [
        "giup=[]\n",
        "for a in range(5):\n",
        "  giup.append(input())\n",
        "\n",
        "giup.reverse()\n",
        "print(giup)"
      ],
      "metadata": {
        "colab": {
          "base_uri": "https://localhost:8080/"
        },
        "id": "c8bEYb-G4kP3",
        "outputId": "4cd5a8c8-9760-45be-cd4b-26d2f135ee79"
      },
      "execution_count": 10,
      "outputs": [
        {
          "output_type": "stream",
          "name": "stdout",
          "text": [
            "a\n",
            "c\n",
            "d\n",
            "e\n",
            "f\n",
            "['f', 'e', 'd', 'c', 'a']\n"
          ]
        }
      ]
    },
    {
      "cell_type": "code",
      "source": [
        "jumsoo=[[\"국어\",],[\"수학\",],[\"영어\",]]\n",
        "b=0\n",
        "for a in range(3):\n",
        "  c=int(input())\n",
        "  jumsoo.insert(a,c)\n",
        "\n",
        "for d in range(3):\n",
        "  b = b+jumsoo[d][1]\n",
        "jumsoo.append(b)"
      ],
      "metadata": {
        "colab": {
          "base_uri": "https://localhost:8080/",
          "height": 281
        },
        "id": "WzrPNXEy6PDV",
        "outputId": "d48e6a44-4138-4408-f682-8e332ebd132a"
      },
      "execution_count": 16,
      "outputs": [
        {
          "name": "stdout",
          "output_type": "stream",
          "text": [
            "1\n",
            "2\n",
            "3\n"
          ]
        },
        {
          "output_type": "error",
          "ename": "TypeError",
          "evalue": "ignored",
          "traceback": [
            "\u001b[0;31m---------------------------------------------------------------------------\u001b[0m",
            "\u001b[0;31mTypeError\u001b[0m                                 Traceback (most recent call last)",
            "\u001b[0;32m<ipython-input-16-98fe406d61f1>\u001b[0m in \u001b[0;36m<module>\u001b[0;34m()\u001b[0m\n\u001b[1;32m      6\u001b[0m \u001b[0;34m\u001b[0m\u001b[0m\n\u001b[1;32m      7\u001b[0m \u001b[0;32mfor\u001b[0m \u001b[0md\u001b[0m \u001b[0;32min\u001b[0m \u001b[0mrange\u001b[0m\u001b[0;34m(\u001b[0m\u001b[0;36m3\u001b[0m\u001b[0;34m)\u001b[0m\u001b[0;34m:\u001b[0m\u001b[0;34m\u001b[0m\u001b[0;34m\u001b[0m\u001b[0m\n\u001b[0;32m----> 8\u001b[0;31m   \u001b[0mb\u001b[0m \u001b[0;34m=\u001b[0m \u001b[0mb\u001b[0m\u001b[0;34m+\u001b[0m\u001b[0mjumsoo\u001b[0m\u001b[0;34m[\u001b[0m\u001b[0md\u001b[0m\u001b[0;34m]\u001b[0m\u001b[0;34m[\u001b[0m\u001b[0;36m1\u001b[0m\u001b[0;34m]\u001b[0m\u001b[0;34m\u001b[0m\u001b[0;34m\u001b[0m\u001b[0m\n\u001b[0m\u001b[1;32m      9\u001b[0m \u001b[0mjumsoo\u001b[0m\u001b[0;34m.\u001b[0m\u001b[0mappend\u001b[0m\u001b[0;34m(\u001b[0m\u001b[0mb\u001b[0m\u001b[0;34m)\u001b[0m\u001b[0;34m\u001b[0m\u001b[0;34m\u001b[0m\u001b[0m\n",
            "\u001b[0;31mTypeError\u001b[0m: 'int' object is not subscriptable"
          ]
        }
      ]
    }
  ]
}