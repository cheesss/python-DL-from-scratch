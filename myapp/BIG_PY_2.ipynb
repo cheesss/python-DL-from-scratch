{
  "cells": [
    {
      "cell_type": "markdown",
      "metadata": {
        "id": "view-in-github",
        "colab_type": "text"
      },
      "source": [
        "<a href=\"https://colab.research.google.com/github/cheesss/python/blob/main/BIG_PY_2.ipynb\" target=\"_parent\"><img src=\"https://colab.research.google.com/assets/colab-badge.svg\" alt=\"Open In Colab\"/></a>"
      ]
    },
    {
      "cell_type": "code",
      "execution_count": null,
      "metadata": {
        "colab": {
          "base_uri": "https://localhost:8080/"
        },
        "id": "9fC9AFM2b74A",
        "outputId": "2ff363e0-1096-436f-bd1b-bdb18ee7247a"
      },
      "outputs": [
        {
          "name": "stdout",
          "output_type": "stream",
          "text": [
            "1\n",
            "5\n",
            "2\n",
            "7\n",
            "4\n",
            "합: 19\n",
            "평균: 3.8\n"
          ]
        }
      ],
      "source": [
        "a=[]\n",
        "sum = 0\n",
        "for i in range(5):\n",
        "  b = int(input())\n",
        "  a.append(b)\n",
        "  sum = sum + a[i]\n",
        "print(\"합:\",sum)\n",
        "print(\"평균:\",sum/5)"
      ]
    },
    {
      "cell_type": "code",
      "execution_count": null,
      "metadata": {
        "colab": {
          "base_uri": "https://localhost:8080/"
        },
        "id": "V2VvGC12icvz",
        "outputId": "8b4872ca-7fe7-423b-f964-40d371663db8"
      },
      "outputs": [
        {
          "name": "stdout",
          "output_type": "stream",
          "text": [
            "오늘의 명언: 종강은 멀다\n"
          ]
        }
      ],
      "source": [
        "import random\n",
        "myungun = [\"인생은 짧다\",\"학기는 길다\",\"방학은 짧다\", \"종강은 멀다\"]\n",
        "a = random.choice(myungun)\n",
        "print(\"오늘의 명언:\",a)"
      ]
    },
    {
      "cell_type": "code",
      "execution_count": null,
      "metadata": {
        "colab": {
          "base_uri": "https://localhost:8080/"
        },
        "id": "iYdUd--njn9y",
        "outputId": "9a664b10-8061-4c47-ebca-970de4a499ad"
      },
      "outputs": [
        {
          "name": "stdout",
          "output_type": "stream",
          "text": [
            "s1, s2, s3, s4, s5, s6 출력횟수 166575 166784 166873 167261 166401 166107\n"
          ]
        }
      ],
      "source": [
        "import random\n",
        "s1=s2=s3=s4=s5=s6=0\n",
        "dice =[1,2,3,4,5,6]\n",
        "for a in range(1000001):\n",
        "  b = random.choice(dice)\n",
        "  if b==1:\n",
        "    s1 += 1\n",
        "  elif b==2:\n",
        "    s2 += 1\n",
        "  elif b==3:\n",
        "    s3 += 1\n",
        "  elif b==4:\n",
        "    s4 += 1\n",
        "  elif b==5:\n",
        "    s5 += 1\n",
        "  else:\n",
        "    s6 += 1\n",
        "print(\"s1, s2, s3, s4, s5, s6 출력횟수\",s1,s2,s3,s4,s5,s6)"
      ]
    },
    {
      "cell_type": "code",
      "execution_count": null,
      "metadata": {
        "colab": {
          "base_uri": "https://localhost:8080/"
        },
        "id": "i3vq5nWfFcBI",
        "outputId": "29a204dc-8820-40e3-a346-4f940b997ff5"
      },
      "outputs": [
        {
          "name": "stdout",
          "output_type": "stream",
          "text": [
            "입력받을 수 개수:3\n",
            "1\n",
            "2\n",
            "3\n",
            "3\n",
            "2\n",
            "1\n"
          ]
        }
      ],
      "source": [
        "a = []\n",
        "b = int(input(\"입력받을 수 개수:\"))\n",
        "for i in range(b):\n",
        "  a.append(int(input()))\n",
        "\n",
        "while b!=0:\n",
        "  print(a[b-1])\n",
        "  b -= 1"
      ]
    },
    {
      "cell_type": "code",
      "execution_count": null,
      "metadata": {
        "colab": {
          "base_uri": "https://localhost:8080/"
        },
        "id": "kRbv66NkXhas",
        "outputId": "b39ca2c1-b9be-4c57-e254-db877ceb5fbd"
      },
      "outputs": [
        {
          "name": "stdout",
          "output_type": "stream",
          "text": [
            "N*N의 N:3\n",
            "[[0, 0, 0], [0, 1, 2], [0, 2, 4]]\n"
          ]
        }
      ],
      "source": [
        "a = int(input(\"N*N의 N:\"))\n",
        "d = [[0] * a for b in range(a)]\n",
        "\n",
        "for i in range(a):\n",
        "  for j in range(a):\n",
        "    d[i][j] = i*j\n",
        "print(d)"
      ]
    },
    {
      "cell_type": "code",
      "execution_count": null,
      "metadata": {
        "colab": {
          "base_uri": "https://localhost:8080/"
        },
        "id": "rMDcz5_dda2q",
        "outputId": "215469f9-ac6e-4ff7-db9f-5f4048404133"
      },
      "outputs": [
        {
          "name": "stdout",
          "output_type": "stream",
          "text": [
            "단어:cho\n",
            "단어:hoi\n",
            "단어:qoe\n",
            "단어:ah\n",
            "단어:alo\n",
            "검색하고 싶은 문장 또는 단어:234\n",
            "none\n"
          ]
        }
      ],
      "source": [
        "a = 5\n",
        "list1 = []\n",
        "for i in range(5):\n",
        "  c = input(\"단어:\")\n",
        "  list1.append(c)\n",
        "\n",
        "list2 = []\n",
        "a2 = input(\"검색하고 싶은 문장 또는 단어:\")\n",
        "for i in list1:\n",
        "  if a2 in i:\n",
        "    list2.append(i)\n",
        "  else:\n",
        "    pass\n",
        "\n",
        "if len(list2)==0:\n",
        "  print(\"none\")\n",
        "else:\n",
        "  print(list2)"
      ]
    },
    {
      "cell_type": "code",
      "execution_count": null,
      "metadata": {
        "colab": {
          "base_uri": "https://localhost:8080/"
        },
        "id": "EG_VQbPpUh-q",
        "outputId": "6a88125d-1147-447b-e55a-df305154d1ca"
      },
      "outputs": [
        {
          "name": "stdout",
          "output_type": "stream",
          "text": [
            "123 234 34 4\n",
            "246\n",
            "117.0\n",
            "17.0\n",
            "2.0\n"
          ]
        }
      ],
      "source": [
        "a = []\n",
        "a = list(map(int, input().split()))\n",
        "for i in range(len(a)):\n",
        "  if a[i]%2 == 0:\n",
        "    print(a[i]/2)\n",
        "  else:\n",
        "    print(a[i]*2)"
      ]
    },
    {
      "cell_type": "code",
      "execution_count": null,
      "metadata": {
        "colab": {
          "base_uri": "https://localhost:8080/"
        },
        "id": "u8Ajo51qrHbA",
        "outputId": "0c5f1496-7e77-4b3c-ac09-257ef226f099"
      },
      "outputs": [
        {
          "name": "stdout",
          "output_type": "stream",
          "text": [
            "증가시키고 싶은 값:-3\n",
            "[-13, -12, -11, -10, -9, -8, -7, -6, -5, -4, -3, -2, -1, 0, 1, 2, 3, 4, 5, 6, 7]\n"
          ]
        }
      ],
      "source": [
        "a = []\n",
        "b = int(input(\"증가시키고 싶은 값:\"))\n",
        "for i in range(-10,11):\n",
        "  a.append(i+b)\n",
        "  \n",
        "print(a)"
      ]
    },
    {
      "cell_type": "code",
      "execution_count": null,
      "metadata": {
        "colab": {
          "base_uri": "https://localhost:8080/"
        },
        "id": "8MCYQC_stGpU",
        "outputId": "26ef5381-bd3e-400c-b76d-1f1372203528"
      },
      "outputs": [
        {
          "name": "stdout",
          "output_type": "stream",
          "text": [
            "1 2 3 4 5 6 7\n",
            "6\n",
            "5\n",
            "4\n",
            "3\n",
            "2\n"
          ]
        }
      ],
      "source": [
        "a = []\n",
        "a = list(map(int, input().split()))\n",
        "\n",
        "i = len(a) - 1\n",
        "while i !=1:\n",
        "  print(a[i-1])\n",
        "  i -= 1"
      ]
    },
    {
      "cell_type": "code",
      "execution_count": null,
      "metadata": {
        "colab": {
          "base_uri": "https://localhost:8080/"
        },
        "id": "wLh_TOdU_5Tv",
        "outputId": "d065162d-f8ae-4b45-979a-67f4529e1d05"
      },
      "outputs": [
        {
          "name": "stdout",
          "output_type": "stream",
          "text": [
            "['GAS_2018_GAMODEL001', 'GAS_2016_GAMODEL002', 'ELEC_2015_ELMODEL001', 'ELEC_2020_MODEL041', 'ELEC_2020_MODEL022', 'ELEC_2020_MODEL027', 'ELEC_2020_MODEL055', 'ELEC_2020_MODEL023']\n"
          ]
        }
      ],
      "source": [
        "modelList = [\"2018_GAMODEL001\",\"2016_GAMODEL002\",\"2015_ELMODEL001\",\"2020_MODEL041\",\"2020_MODEL022\",\"2020_MODEL027\",\"2020_MODEL055\",\"2020_MODEL023\"]\n",
        "\n",
        "for a in range(len(modelList)):\n",
        "  if int(modelList[a][3]) >= 9:\n",
        "    if (int(modelList[a][14])+int(modelList[a][13]))%2 ==0:\n",
        "      modelList[a] = \"GAS_\"+modelList[a]\n",
        "    else:\n",
        "      modelList[a] = \"ELEC_\"+modelList[a]\n",
        "  elif modelList[a][5] == \"G\":\n",
        "    modelList[a] = \"GAS_\"+modelList[a]\n",
        "  else:\n",
        "    modelList[a] = \"ELEC_\"+modelList[a]\n",
        "print(modelList)"
      ]
    },
    {
      "cell_type": "code",
      "execution_count": null,
      "metadata": {
        "id": "lEMvfWeolcNB"
      },
      "outputs": [],
      "source": [
        "name = {}\n",
        "name[\"cho\"] = \"010-6543-5128\"\n",
        "print(name)"
      ]
    },
    {
      "cell_type": "code",
      "execution_count": null,
      "metadata": {
        "colab": {
          "base_uri": "https://localhost:8080/"
        },
        "id": "YnXDA5Tzm6E7",
        "outputId": "20a21874-4598-476f-96eb-e41c81969e40"
      },
      "outputs": [
        {
          "name": "stdout",
          "output_type": "stream",
          "text": [
            "hello\n"
          ]
        }
      ],
      "source": [
        "!python /test.py"
      ]
    },
    {
      "cell_type": "code",
      "execution_count": null,
      "metadata": {
        "colab": {
          "base_uri": "https://localhost:8080/"
        },
        "id": "bF5hxDvH4x3f",
        "outputId": "38f8edd1-f26d-4142-ad3e-348cdc828dfa"
      },
      "outputs": [
        {
          "name": "stdout",
          "output_type": "stream",
          "text": [
            "43\n",
            "23\n",
            "(66, 20, 989, 1.8695652173913044)\n",
            "12\n",
            "43\n",
            "(55, -31, 516, 0.27906976744186046)\n",
            "53\n",
            "3\n",
            "(56, 50, 159, 17.666666666666668)\n",
            "{'case#1': (66, 20, 989, 1.8695652173913044), 'case#2': (55, -31, 516, 0.27906976744186046), 'case#3': (56, 50, 159, 17.666666666666668)}\n"
          ]
        }
      ],
      "source": [
        "T=3\n",
        "case = {}\n",
        "for i in range(1,T+1):\n",
        "  A = int(input())\n",
        "  B = int(input())\n",
        "  plus = A+B\n",
        "  minus = A-B\n",
        "  multiply = A*B\n",
        "  divide  = A/B\n",
        "  case_num = str(\"case#\"+str(i))\n",
        "  case[case_num] = plus, minus, multiply, divide\n",
        "  print(case[case_num])\n",
        "\n",
        "print(case)"
      ]
    },
    {
      "cell_type": "code",
      "execution_count": null,
      "metadata": {
        "colab": {
          "base_uri": "https://localhost:8080/"
        },
        "id": "8gBOjmf39TL8",
        "outputId": "796ee9ef-bbdb-448e-b4f0-44cf1f7d711a"
      },
      "outputs": [
        {
          "name": "stdout",
          "output_type": "stream",
          "text": [
            "dict_keys(['요일', '월', '화', '수', '목', '금', '토', '일'])\n",
            "dict_values(['최고기온', '25,5', '28.3', '33.2', '32.1', '17.3', '35.3', '33.3'])\n"
          ]
        }
      ],
      "source": [
        "ondo = {'요일':'최고기온','월' : '25,5','화':'28.3','수':'33.2','목':'32.1','금':'17.3','토':'35.3','일':'33.3'}\n",
        "print(f'{ondo.keys()}')\n",
        "print(ondo.values())"
      ]
    },
    {
      "cell_type": "code",
      "execution_count": null,
      "metadata": {
        "colab": {
          "base_uri": "https://localhost:8080/"
        },
        "id": "0CEa9jsJsNF2",
        "outputId": "b7fbe4cf-18ec-4172-fb08-b831d6eeb7fa"
      },
      "outputs": [
        {
          "name": "stdout",
          "output_type": "stream",
          "text": [
            "(2, 4, 6, 8, 10, 12, 14, 16, 18, 20, 22, 24, 26, 28, 30, 32, 34, 36, 38, 40, 42, 44, 46, 48, 50, 52, 54, 56, 58, 60, 62, 64, 66, 68, 70, 72, 74, 76, 78, 80, 82, 84, 86, 88, 90, 92, 94, 96, 98)\n"
          ]
        }
      ],
      "source": [
        "test_list = []\n",
        "for i in range(2, 99, 2):\n",
        "  test_list.append(i)\n",
        "\n",
        "test_tuple = tuple(test_list)\n",
        "print(test_tuple)"
      ]
    },
    {
      "cell_type": "code",
      "execution_count": null,
      "metadata": {
        "colab": {
          "base_uri": "https://localhost:8080/"
        },
        "id": "od15B1MKvw9w",
        "outputId": "354d996d-d5de-4a84-992e-3103bf1807a3"
      },
      "outputs": [
        {
          "name": "stdout",
          "output_type": "stream",
          "text": [
            "[1, 2, 3, 4, 5]\n"
          ]
        }
      ],
      "source": [
        "A = [1, 1, 1, 2, 2, 3, 3, 3, 4, 4, 5]\n",
        "set_A=set(A)\n",
        "list_A2=list(set_A)\n",
        "print(list_A2)"
      ]
    },
    {
      "cell_type": "code",
      "execution_count": null,
      "metadata": {
        "colab": {
          "base_uri": "https://localhost:8080/"
        },
        "id": "tYTSXQ-8wr7x",
        "outputId": "16641c33-04c2-4eda-fb24-e77b9e30f036"
      },
      "outputs": [
        {
          "name": "stdout",
          "output_type": "stream",
          "text": [
            "[0, 1, 2, 3, 4, 5]\n"
          ]
        }
      ],
      "source": [
        "my_tuple = (0, 1, 2, 3, 4, 5)\n",
        "my_list = list(my_tuple)\n",
        "print(list(my_tuple))"
      ]
    },
    {
      "cell_type": "code",
      "execution_count": null,
      "metadata": {
        "colab": {
          "base_uri": "https://localhost:8080/"
        },
        "id": "ouOpFWI-xmLV",
        "outputId": "2e788777-9164-4cf1-de50-b1a586e2c722"
      },
      "outputs": [
        {
          "name": "stdout",
          "output_type": "stream",
          "text": [
            "[[5, 5], [5, 7], [7, 5], [7, 7]]\n"
          ]
        }
      ],
      "source": [
        "point = [[5,5],[5,7],[7,5]]\n",
        "x = point[0][0] ^ point[1][0] ^ point[2][0]\n",
        "y = point[0][1] ^ point[1][1] ^ point[2][1]\n",
        "point.append([x,y])\n",
        "print(point)"
      ]
    },
    {
      "cell_type": "code",
      "execution_count": null,
      "metadata": {
        "colab": {
          "base_uri": "https://localhost:8080/"
        },
        "id": "LNrfuVuX1YZC",
        "outputId": "10785ad2-880a-408d-ab5d-2ba834d665f7"
      },
      "outputs": [
        {
          "name": "stdout",
          "output_type": "stream",
          "text": [
            "집합 B는 A의 부분집합입니다\n",
            "교집합은 {32, 65, 34, 69}입니다\n",
            "합집합은{32, 65, 34, 69, 53}입니다\n",
            "합집합 정렬결과는 {32, 65, 34, 69, 53}입니다\n"
          ]
        }
      ],
      "source": [
        "A = {32, 65, 34, 69, 53}\n",
        "B = {32, 65, 34, 69}\n",
        "if ((A > B) or (B > A)):\n",
        "  print(\"집합 B는 A의 부분집합입니다\")\n",
        "  print(f'교집합은 {A&B}입니다')\n",
        "  print(f'합집합은{A|B}입니다')\n",
        "  List = sorted(list(A|B))\n",
        "  print(f'합집합 정렬결과는 {set(List)}입니다')"
      ]
    },
    {
      "cell_type": "code",
      "execution_count": null,
      "metadata": {
        "colab": {
          "base_uri": "https://localhost:8080/"
        },
        "id": "EzbrNW6qBxGA",
        "outputId": "20ca2e3b-72e5-40c6-fbfb-57274f9ae43c"
      },
      "outputs": [
        {
          "name": "stdout",
          "output_type": "stream",
          "text": [
            "my name is cho, age is\n"
          ]
        }
      ],
      "source": [
        "def hi(name, age= ''):\n",
        "  print(f'my name is {name}, age is{age}')\n",
        "\n",
        "hi(name = 'cho')"
      ]
    },
    {
      "cell_type": "code",
      "execution_count": null,
      "metadata": {
        "colab": {
          "base_uri": "https://localhost:8080/"
        },
        "id": "-OaI6sV0O01_",
        "outputId": "9c8f82db-f1dc-451c-a09d-05ab05aeb54d"
      },
      "outputs": [
        {
          "name": "stdout",
          "output_type": "stream",
          "text": [
            "1335\n"
          ]
        }
      ],
      "source": [
        "def plus(n1,n2):\n",
        "  res = n1+n2\n",
        "  return res\n",
        "  print(res, \"입니다\")\n",
        "\n",
        "print(plus(486, 849))\n",
        "#리턴이후에는 함수 내부코드가 더이상 실행되지 않는다."
      ]
    },
    {
      "cell_type": "code",
      "execution_count": null,
      "metadata": {
        "colab": {
          "base_uri": "https://localhost:8080/",
          "height": 136
        },
        "id": "9MrTJmaOR3qd",
        "outputId": "20b58246-d3f2-43bb-9358-76bc30329da7"
      },
      "outputs": [
        {
          "ename": "SyntaxError",
          "evalue": "ignored",
          "output_type": "error",
          "traceback": [
            "\u001b[0;36m  File \u001b[0;32m\"<ipython-input-8-f6d9f6e7a9ed>\"\u001b[0;36m, line \u001b[0;32m2\u001b[0m\n\u001b[0;31m    global n = input()\u001b[0m\n\u001b[0m             ^\u001b[0m\n\u001b[0;31mSyntaxError\u001b[0m\u001b[0;31m:\u001b[0m invalid syntax\n"
          ]
        }
      ],
      "source": [
        "def hi():\n",
        "  n = input()\n",
        "  print('h')\n",
        "  print('m n i ',name,'!')\n",
        "\n",
        "print('자')\n",
        "hi()\n",
        "print(n,'님 안녕')"
      ]
    },
    {
      "cell_type": "code",
      "execution_count": null,
      "metadata": {
        "colab": {
          "base_uri": "https://localhost:8080/"
        },
        "id": "PcCzb0GWX5zB",
        "outputId": "3a326a51-e985-4a9a-d112-82cb3d8b33d3"
      },
      "outputs": [
        {
          "name": "stdout",
          "output_type": "stream",
          "text": [
            "7 20\n",
            "9 40\n",
            "11 80\n",
            "13 160\n",
            "15 320\n",
            "15 320\n"
          ]
        }
      ],
      "source": [
        "def fun():\n",
        "  global a,b\n",
        "  a+=2\n",
        "  b*=2\n",
        "  print(a,b)\n",
        "\n",
        "a,b = 5,10\n",
        "for i in range(5):\n",
        "  fun()\n",
        "print(a,b)"
      ]
    },
    {
      "cell_type": "code",
      "execution_count": null,
      "metadata": {
        "colab": {
          "base_uri": "https://localhost:8080/"
        },
        "id": "Bv_chGF6meLk",
        "outputId": "5219a949-fdbf-4443-c840-2c096145cd59"
      },
      "outputs": [
        {
          "name": "stdout",
          "output_type": "stream",
          "text": [
            "안녕하세요 :D\n"
          ]
        }
      ],
      "source": [
        "def print_with_smile(a):\n",
        "  print(a,':D')\n",
        "\n",
        "print_with_smile(\"안녕하세요\")"
      ]
    },
    {
      "cell_type": "code",
      "execution_count": null,
      "metadata": {
        "colab": {
          "base_uri": "https://localhost:8080/"
        },
        "id": "FeARbBQinet-",
        "outputId": "568ae298-3bb2-4c42-92ba-134eb8e09cc8"
      },
      "outputs": [
        {
          "name": "stdout",
          "output_type": "stream",
          "text": [
            "상한가는 130.0입니다\n"
          ]
        }
      ],
      "source": [
        "def print_upper_price(price):\n",
        "  print(f'상한가는 {price*1.3}입니다')\n",
        "\n",
        "print_upper_price(100)"
      ]
    },
    {
      "cell_type": "code",
      "execution_count": null,
      "metadata": {
        "colab": {
          "base_uri": "https://localhost:8080/"
        },
        "id": "jQDWLE0spZcV",
        "outputId": "8f7bcbfe-b0ab-4ec4-822b-d56772cab8f5"
      },
      "outputs": [
        {
          "name": "stdout",
          "output_type": "stream",
          "text": [
            "2 + 9 = 11\n",
            "2 - 9 = -7\n",
            "2 * 9 = 18\n",
            "2 / 9 = 0.2222222222222222\n"
          ]
        }
      ],
      "source": [
        "def print_arithmetic_operation(a, b):\n",
        "  print(f'{a} + {b} = {a+b}')\n",
        "  print(f'{a} - {b} = {a-b}')\n",
        "  print(f'{a} * {b} = {a*b}')\n",
        "  print(f'{a} / {b} = {a/b}')\n",
        "\n",
        "print_arithmetic_operation(2,9)"
      ]
    },
    {
      "cell_type": "code",
      "execution_count": null,
      "metadata": {
        "colab": {
          "base_uri": "https://localhost:8080/"
        },
        "id": "5i6y0HINp_Da",
        "outputId": "e96bcc33-e51c-4800-9c28-57a200825331"
      },
      "outputs": [
        {
          "name": "stdout",
          "output_type": "stream",
          "text": [
            "23\n"
          ]
        }
      ],
      "source": [
        "def print_max(a,b,c):\n",
        "  if (a>b):\n",
        "    if(a>c):\n",
        "      print(a)\n",
        "    else:\n",
        "      print(c)\n",
        "  elif (b>c):\n",
        "    print(b)\n",
        "  else:\n",
        "    print(c)\n",
        "  \n",
        "print_max(1,2,23)"
      ]
    },
    {
      "cell_type": "code",
      "execution_count": null,
      "metadata": {
        "colab": {
          "base_uri": "https://localhost:8080/"
        },
        "id": "MchJhxHeq_BQ",
        "outputId": "6ca652d6-c5d2-4f88-8b5b-6aecb77594d5"
      },
      "outputs": [
        {
          "name": "stdout",
          "output_type": "stream",
          "text": [
            "4\n"
          ]
        }
      ],
      "source": [
        "plus = lambda a,b:print(a+b)\n",
        "plus(1,3)"
      ]
    },
    {
      "cell_type": "code",
      "execution_count": null,
      "metadata": {
        "id": "xMIfZnHEU8GS"
      },
      "outputs": [],
      "source": [
        "class Calculator:\n",
        "  def __init__(self, val):\n",
        "    self.value = 0\n",
        "  def add(self, val):\n",
        "    self.value += val\n",
        "\n",
        "class Calculator1:\n",
        "  \n",
        "  def __init__(self , val):\n",
        "    Calculator().__init__(self, 0)\n",
        "    self.val = 0\n",
        "  def minus(self, val):\n",
        "    self.val -= val"
      ]
    },
    {
      "cell_type": "code",
      "execution_count": null,
      "metadata": {
        "colab": {
          "base_uri": "https://localhost:8080/"
        },
        "id": "I9sxymChZAyl",
        "outputId": "19eeabea-b094-4004-ec34-4d5b7c4a9f3d"
      },
      "outputs": [
        {
          "name": "stdout",
          "output_type": "stream",
          "text": [
            "트럭 ->현재 속도(슈퍼클래스) : 200\n",
            "세단 ->현재 속도(서브클래스) : 150\n"
          ]
        }
      ],
      "source": [
        "class car:\n",
        "    speed = 0\n",
        "    def upSpeed(self, value):\n",
        "        self.speed += value\n",
        "        print(\"현재 속도(슈퍼클래스) : %d\" % self.speed)\n",
        "\n",
        "class Sedan(car):\n",
        "    def upSpeed(self, value):\n",
        "        self.speed += value\n",
        "        if self.speed > 150:\n",
        "            self.speed = 150\n",
        "        print(\"현재 속도(서브클래스) : %d\" % self.speed)\n",
        "\n",
        "class Truck(car):\n",
        "    pass\n",
        "\n",
        "sedan1, truck1 = None, None\n",
        "\n",
        "truck1 = Truck()\n",
        "sedan1 = Sedan()\n",
        "print(\"트럭 ->\", end = '')\n",
        "truck1.upSpeed(200)\n",
        "print(\"세단 ->\", end = '')\n",
        "sedan1.upSpeed(200)\n"
      ]
    },
    {
      "cell_type": "code",
      "execution_count": null,
      "metadata": {
        "id": "2GBjeozIJ7AF"
      },
      "outputs": [],
      "source": [
        "class bigpy:\n",
        "  pass"
      ]
    },
    {
      "cell_type": "code",
      "execution_count": null,
      "metadata": {
        "colab": {
          "base_uri": "https://localhost:8080/"
        },
        "id": "Gt6qTDxfKl8M",
        "outputId": "ab9d4865-53dd-4c41-f89b-b012a3b95b4e"
      },
      "outputs": [
        {
          "name": "stdout",
          "output_type": "stream",
          "text": [
            "3\n"
          ]
        }
      ],
      "source": [
        "class Calculator:\n",
        "\tdef __init__(self):\n",
        "\t\tself.value = 0\n",
        "\t\n",
        "\tdef add(self,val):\n",
        "\t\tself.value += val\n",
        "\n",
        "class UpgradeCalculator(Calculator):\n",
        "  def minus(self, val):\n",
        "    self.value -= val\n",
        "\n",
        "cal = UpgradeCalculator()\n",
        "cal.add(10)\n",
        "cal.minus(7)\n",
        "\n",
        "print(cal.value)"
      ]
    },
    {
      "cell_type": "code",
      "execution_count": null,
      "metadata": {
        "colab": {
          "base_uri": "https://localhost:8080/"
        },
        "id": "D-XGXkmA6IvC",
        "outputId": "4e5d86c5-1b18-4f27-db00-e9334b0d4521"
      },
      "outputs": [
        {
          "name": "stdout",
          "output_type": "stream",
          "text": [
            "값이 100을 넘습니다\n",
            "100\n"
          ]
        }
      ],
      "source": [
        "class Calculator:\n",
        "\tdef __init__(self):\n",
        "\t\tself.value = 0\n",
        "\n",
        "\tdef add(self, val):\n",
        "\t\tself.value += val\n",
        "\n",
        "class MaxLimitCalculator(Calculator):\n",
        "    \n",
        "  def add(self, value):\n",
        "    self.value += value\n",
        "    if (self.value <= 100):\n",
        "      print(f'저장된 값은 {self.value}입니다')\n",
        "    else:\n",
        "      self.value = 100\n",
        "      print(\"값이 100을 넘습니다\")\n",
        "\n",
        "test_ins = MaxLimitCalculator()\n",
        "test_ins.add(1000)\n",
        "print(test_ins.value)"
      ]
    },
    {
      "cell_type": "code",
      "execution_count": null,
      "metadata": {
        "colab": {
          "base_uri": "https://localhost:8080/"
        },
        "id": "Y7RMfMcbAtvj",
        "outputId": "490eb90d-e15f-4e50-8791-4b94ecc34f87"
      },
      "outputs": [
        {
          "name": "stdout",
          "output_type": "stream",
          "text": [
            "철수\n"
          ]
        }
      ],
      "source": [
        "class who:\n",
        "  def __init__(self, name, age, sex):\n",
        "    self.name = name\n",
        "    self.age = age\n",
        "    self.sex = sex\n",
        "\n",
        "test_ins = who(\"철수\",25,\"남자\")\n",
        "print(test_ins.name)"
      ]
    },
    {
      "cell_type": "code",
      "execution_count": null,
      "metadata": {
        "colab": {
          "base_uri": "https://localhost:8080/"
        },
        "id": "sRVQgLgsb3HK",
        "outputId": "bdb39b56-0256-4ea2-d9f0-48e01952f223"
      },
      "outputs": [
        {
          "name": "stdout",
          "output_type": "stream",
          "text": [
            "이름:김영희, 나이:25, 여자:25\n"
          ]
        }
      ],
      "source": [
        "class Human:\n",
        "  def __init__(self, name, age, sex):\n",
        "    self.name = name\n",
        "    self.age = age\n",
        "    self.sex = age\n",
        "  \n",
        "  def who(self):\n",
        "      print(f'이름:{self.name}, 나이:{self.age}, 여자:{self.sex}')\n",
        "\n",
        "me = Human(\"김영희\", 25, \"여자\")\n",
        "me.who()"
      ]
    },
    {
      "cell_type": "code",
      "execution_count": null,
      "metadata": {
        "colab": {
          "base_uri": "https://localhost:8080/"
        },
        "id": "4EYTruyjl_MN",
        "outputId": "c7d2e96f-030a-4511-8e9d-5748d9ac1418"
      },
      "outputs": [
        {
          "name": "stdout",
          "output_type": "stream",
          "text": [
            "원의 면적: 12.56\n"
          ]
        }
      ],
      "source": [
        "class Circle:\n",
        "  def __init__(self, radius):\n",
        "    self.radius = radius\n",
        "\n",
        "  def area(self):\n",
        "    self.area = 2*3.14*self.radius\n",
        "    print(f'원의 면적: {self.area}')\n",
        "\n",
        "c1 = Circle(2)\n",
        "c1.area()"
      ]
    },
    {
      "cell_type": "code",
      "execution_count": null,
      "metadata": {
        "colab": {
          "base_uri": "https://localhost:8080/"
        },
        "id": "ppF2qc93qb1B",
        "outputId": "8c44a450-768c-4f8d-85ee-c1bc2ea6d8da"
      },
      "outputs": [
        {
          "name": "stdout",
          "output_type": "stream",
          "text": [
            "169\n"
          ]
        }
      ],
      "source": [
        "class Shape:\n",
        "  def __init__(self, length):\n",
        "    self.length = length\n",
        "  def area(self):\n",
        "    return 0\n",
        "\n",
        "class Square(Shape):\n",
        "  def __init__(self, length):\n",
        "    self.length = length\n",
        "\n",
        "  def area(self):\n",
        "    self.Square_Area = self.length**2\n",
        "    return self.Square_Area\n",
        "  \n",
        "s1 = Square(13)\n",
        "print(s1.area())"
      ]
    },
    {
      "cell_type": "code",
      "execution_count": null,
      "metadata": {
        "colab": {
          "base_uri": "https://localhost:8080/"
        },
        "id": "Z3e1YPpYAJLh",
        "outputId": "e3cefab6-f690-4f0e-a715-0fa7b759b22f"
      },
      "outputs": [
        {
          "name": "stdout",
          "output_type": "stream",
          "text": [
            "Good Job\n"
          ]
        }
      ],
      "source": [
        "class Bigpy : \n",
        "    def print(self) :\n",
        "        print(\"Good Job\")\n",
        "\n",
        "hello = Bigpy()\n",
        "hello.print()"
      ]
    },
    {
      "cell_type": "code",
      "execution_count": null,
      "metadata": {
        "colab": {
          "base_uri": "https://localhost:8080/"
        },
        "id": "7Oei_0_cBole",
        "outputId": "a35d981a-6cc7-409b-f48e-f6a4e24cfb85"
      },
      "outputs": [
        {
          "name": "stdout",
          "output_type": "stream",
          "text": [
            "3\n"
          ]
        }
      ],
      "source": [
        "import random\n",
        "\n",
        "class Dice:\n",
        "  def roll(self):\n",
        "    face = random.randint(1, 6)\n",
        "    print(face)\n",
        "\n",
        "d1 = Dice()\n",
        "d1.roll()"
      ]
    },
    {
      "cell_type": "code",
      "execution_count": null,
      "metadata": {
        "colab": {
          "base_uri": "https://localhost:8080/"
        },
        "id": "H7Qirn-xC5Hf",
        "outputId": "e7952c44-4ef0-451a-9df3-9bbc396f7296"
      },
      "outputs": [
        {
          "output_type": "stream",
          "name": "stdout",
          "text": [
            "15\n",
            "3.0\n",
            "40\n",
            "8.0\n"
          ]
        }
      ],
      "source": [
        "class Calculator:\n",
        "  def __init__(self, a,b,c,d,e):\n",
        "    self.sum1 = a+b+c+d+e\n",
        "\n",
        "  def sum(self):\n",
        "    print(self.sum1)\n",
        "\n",
        "  def avg(self):\n",
        "    print((self.sum1)/5)\n",
        "\n",
        "c1 = Calculator(1,2,3,4,5)\n",
        "c1.sum()\n",
        "c1.avg()\n",
        "\n",
        "c2 = Calculator(6,7,8,9,10)\n",
        "c2.sum()\n",
        "c2.avg()"
      ]
    },
    {
      "cell_type": "code",
      "source": [
        "name = [\"cho\",\"lyn\"]\n",
        "a = \" \"\n",
        "c = a.join(name)"
      ],
      "metadata": {
        "id": "fF4mX4U8T_PU"
      },
      "execution_count": 1,
      "outputs": []
    }
  ],
  "metadata": {
    "colab": {
      "collapsed_sections": [],
      "name": "BIG_PY_2.ipynb",
      "provenance": [],
      "authorship_tag": "ABX9TyOupmEr1WjiclQ8jv+zPH8I",
      "include_colab_link": true
    },
    "kernelspec": {
      "display_name": "Python 3",
      "name": "python3"
    },
    "language_info": {
      "name": "python"
    }
  },
  "nbformat": 4,
  "nbformat_minor": 0
}