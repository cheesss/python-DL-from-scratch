{
  "cells": [
    {
      "cell_type": "markdown",
      "metadata": {
        "colab_type": "text",
        "id": "view-in-github"
      },
      "source": [
        "<a href=\"https://colab.research.google.com/github/cheesss/python/blob/main/Untitled0.ipynb\" target=\"_parent\"><img src=\"https://colab.research.google.com/assets/colab-badge.svg\" alt=\"Open In Colab\"/></a>"
      ]
    },
    {
      "cell_type": "code",
      "execution_count": 66,
      "metadata": {
        "colab": {
          "base_uri": "https://localhost:8080/"
        },
        "id": "JYBGotpBxsYU",
        "outputId": "7164881b-0bb1-4a68-a1cb-81b4324abab2"
      },
      "outputs": [
        {
          "name": "stdout",
          "output_type": "stream",
          "text": [
            "Error: 404\n"
          ]
        }
      ],
      "source": [
        "import requests\n",
        "import json\n",
        "\n",
        "endpoint = \"https://api.binance.com/eapi/v1/depth\"\n",
        "\n",
        "symbol = \"BTC-230412-9000-C\"\n",
        "\n",
        "response = requests.get(endpoint, params={'symbol': symbol})\n",
        "\n",
        "if response.status_code == 200:\n",
        "    data = json.loads(response.text)\n",
        "    print(f\"Symbol: {data['symbol']}, PriceC: {data['priceChange']}\")\n",
        "else:\n",
        "    print(f\"Error: {response.status_code}\")\n"
      ]
    }
  ],
  "metadata": {
    "colab": {
      "authorship_tag": "ABX9TyPoftJ4goTbxs5x+6L8Q+gw",
      "include_colab_link": true,
      "provenance": []
    },
    "kernelspec": {
      "display_name": "Python 3",
      "name": "python3"
    },
    "language_info": {
      "codemirror_mode": {
        "name": "ipython",
        "version": 3
      },
      "file_extension": ".py",
      "mimetype": "text/x-python",
      "name": "python",
      "nbconvert_exporter": "python",
      "pygments_lexer": "ipython3",
      "version": "3.9.7"
    }
  },
  "nbformat": 4,
  "nbformat_minor": 0
}
